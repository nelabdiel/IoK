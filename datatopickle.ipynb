{
 "cells": [
  {
   "cell_type": "code",
   "execution_count": 1,
   "metadata": {
    "collapsed": true
   },
   "outputs": [],
   "source": [
    "import pickle"
   ]
  },
  {
   "cell_type": "code",
   "execution_count": 2,
   "metadata": {
    "collapsed": true
   },
   "outputs": [],
   "source": [
    "#reopening data\n",
    "class Company(object):\n",
    "    def __init__(self, rec):\n",
    "        self.rec = rec\n",
    "\n",
    "\n",
    "#opens the file to make sure it worked    \n",
    "with open('recent_comp.pkl', 'rb') as input:\n",
    "    rdatac = pickle.load(input, encoding='latin1')    \n",
    "\n",
    "recent_complete = rdatac.rec "
   ]
  },
  {
   "cell_type": "code",
   "execution_count": 137,
   "metadata": {
    "collapsed": false
   },
   "outputs": [],
   "source": [
    "recent_data = recent_complete.dropna()"
   ]
  },
  {
   "cell_type": "code",
   "execution_count": 6,
   "metadata": {
    "collapsed": false
   },
   "outputs": [],
   "source": [
    "import numpy as np\n",
    "#Since my data has been normalized by the NSC Im not concerned with body weight, so for a given\n",
    "#lifter, I'll use his country of origin, age and the years he has competed and plot that\n",
    "#against his coefficient.\n",
    "X = np.array(recent_data[['LC', 'CC', 'Birth', 'Age', 'Year']])\n",
    "y = np.array(recent_data['NSC'])"
   ]
  },
  {
   "cell_type": "code",
   "execution_count": 7,
   "metadata": {
    "collapsed": true
   },
   "outputs": [],
   "source": [
    "from sklearn.neighbors import KNeighborsRegressor"
   ]
  },
  {
   "cell_type": "code",
   "execution_count": 8,
   "metadata": {
    "collapsed": true
   },
   "outputs": [],
   "source": [
    "nei = KNeighborsRegressor(n_neighbors=100, weights='distance',\n",
    "                          algorithm='ball_tree', leaf_size=1000, metric='manhattan')"
   ]
  },
  {
   "cell_type": "code",
   "execution_count": 9,
   "metadata": {
    "collapsed": true
   },
   "outputs": [],
   "source": [
    "from sklearn.cross_validation import train_test_split"
   ]
  },
  {
   "cell_type": "code",
   "execution_count": 10,
   "metadata": {
    "collapsed": true
   },
   "outputs": [],
   "source": [
    "X_train, X_test, y_train, y_test = train_test_split(X, y, test_size=0.3, random_state=100)"
   ]
  },
  {
   "cell_type": "code",
   "execution_count": 11,
   "metadata": {
    "collapsed": false
   },
   "outputs": [
    {
     "data": {
      "text/plain": [
       "KNeighborsRegressor(algorithm='ball_tree', leaf_size=1000, metric='manhattan',\n",
       "          metric_params=None, n_neighbors=100, p=2, weights='distance')"
      ]
     },
     "execution_count": 11,
     "metadata": {},
     "output_type": "execute_result"
    }
   ],
   "source": [
    "nei.fit(X_train, y_train)"
   ]
  },
  {
   "cell_type": "code",
   "execution_count": 12,
   "metadata": {
    "collapsed": false
   },
   "outputs": [
    {
     "data": {
      "text/plain": [
       "array([-160.48709214])"
      ]
     },
     "execution_count": 12,
     "metadata": {},
     "output_type": "execute_result"
    }
   ],
   "source": [
    "nei.predict([6261,48,1998,18,2016])"
   ]
  },
  {
   "cell_type": "code",
   "execution_count": 24,
   "metadata": {
    "collapsed": true
   },
   "outputs": [],
   "source": [
    "class Company1(object):\n",
    "    def __init__(self, mod):\n",
    "        self.mod = mod\n",
    "\n",
    "with open('nei_model.pkl', 'wb') as output:\n",
    "    recent_c = Company1(nei)\n",
    "    pickle.dump(recent_c, output, protocol=2)"
   ]
  },
  {
   "cell_type": "code",
   "execution_count": 17,
   "metadata": {
    "collapsed": true
   },
   "outputs": [],
   "source": [
    "#opens the file to make sure it worked    \n",
    "with open('nei_model.pkl', 'rb') as input:\n",
    "    nei_model_predict = pickle.load(input)    \n",
    "\n",
    "nei_model_predict3 = nei_model_predict.mod"
   ]
  },
  {
   "cell_type": "code",
   "execution_count": 18,
   "metadata": {
    "collapsed": false
   },
   "outputs": [
    {
     "data": {
      "text/plain": [
       "array([-160.48709214])"
      ]
     },
     "execution_count": 18,
     "metadata": {},
     "output_type": "execute_result"
    }
   ],
   "source": [
    "nei_model_predict3.predict([6261,48,1998,18,2016])"
   ]
  },
  {
   "cell_type": "code",
   "execution_count": 20,
   "metadata": {
    "collapsed": false
   },
   "outputs": [],
   "source": [
    "import dill\n",
    "with open('nei_model.dill', 'rb') as input:\n",
    "    nei_model_pred = dill.load(input)"
   ]
  },
  {
   "cell_type": "code",
   "execution_count": 21,
   "metadata": {
    "collapsed": false
   },
   "outputs": [
    {
     "data": {
      "text/plain": [
       "array([-160.48709214])"
      ]
     },
     "execution_count": 21,
     "metadata": {},
     "output_type": "execute_result"
    }
   ],
   "source": [
    "nei_model_pred.predict([6261,48,1998,18,2016])"
   ]
  },
  {
   "cell_type": "code",
   "execution_count": 4,
   "metadata": {
    "collapsed": true
   },
   "outputs": [],
   "source": [
    "import pycountry\n",
    "from geopy.geocoders import Nominatim"
   ]
  },
  {
   "cell_type": "code",
   "execution_count": 5,
   "metadata": {
    "collapsed": true
   },
   "outputs": [],
   "source": [
    "geolocator = Nominatim()"
   ]
  },
  {
   "cell_type": "code",
   "execution_count": 6,
   "metadata": {
    "collapsed": true
   },
   "outputs": [],
   "source": [
    "location = geolocator.geocode(\"USA\")"
   ]
  },
  {
   "cell_type": "code",
   "execution_count": 7,
   "metadata": {
    "collapsed": false
   },
   "outputs": [
    {
     "name": "stdout",
     "output_type": "stream",
     "text": [
      "(39.7837304, -100.4458824)\n"
     ]
    }
   ],
   "source": [
    "print((location.latitude, location.longitude))"
   ]
  },
  {
   "cell_type": "code",
   "execution_count": 8,
   "metadata": {
    "collapsed": true
   },
   "outputs": [],
   "source": [
    "location2 = geolocator.geocode(\"PUR\")"
   ]
  },
  {
   "cell_type": "code",
   "execution_count": 9,
   "metadata": {
    "collapsed": false
   },
   "outputs": [
    {
     "name": "stdout",
     "output_type": "stream",
     "text": [
      "(23.0619849, 101.1407285)\n"
     ]
    }
   ],
   "source": [
    "print((location2.latitude, location2.longitude))"
   ]
  },
  {
   "cell_type": "code",
   "execution_count": 41,
   "metadata": {
    "collapsed": true
   },
   "outputs": [],
   "source": [
    "def lat(row):\n",
    "    if row['Country'] == 'DEN':\n",
    "        return 55.72\n",
    "    else:\n",
    "        location = geolocator.geocode(row['Country'])\n",
    "        return location.latitude"
   ]
  },
  {
   "cell_type": "code",
   "execution_count": null,
   "metadata": {
    "collapsed": false
   },
   "outputs": [],
   "source": [
    "recent_data['Lat'] = recent_data.apply(lambda row: lat(row),axis=1)"
   ]
  },
  {
   "cell_type": "code",
   "execution_count": 79,
   "metadata": {
    "collapsed": true
   },
   "outputs": [],
   "source": [
    "location2 = geolocator.geocode(\"Puerto Rico\")"
   ]
  },
  {
   "cell_type": "code",
   "execution_count": 80,
   "metadata": {
    "collapsed": false
   },
   "outputs": [
    {
     "name": "stdout",
     "output_type": "stream",
     "text": [
      "Puerto Rico, United States of America\n"
     ]
    }
   ],
   "source": [
    "print(location2.address)"
   ]
  },
  {
   "cell_type": "code",
   "execution_count": null,
   "metadata": {
    "collapsed": true
   },
   "outputs": [],
   "source": [
    "def long(row):\n",
    "    location1 = geolocator.geocode(row['Country'])\n",
    "    return location1.longitude"
   ]
  },
  {
   "cell_type": "code",
   "execution_count": 54,
   "metadata": {
    "collapsed": false
   },
   "outputs": [
    {
     "name": "stdout",
     "output_type": "stream",
     "text": [
      "18.2017809\n"
     ]
    }
   ],
   "source": [
    "location = geolocator.geocode('Puerto Rico')\n",
    "print(location.latitude)"
   ]
  },
  {
   "cell_type": "code",
   "execution_count": 55,
   "metadata": {
    "collapsed": true
   },
   "outputs": [],
   "source": []
  },
  {
   "cell_type": "code",
   "execution_count": null,
   "metadata": {
    "collapsed": false
   },
   "outputs": [],
   "source": [
    "country = pycountry.countries.get(name='Bulgary')"
   ]
  },
  {
   "cell_type": "code",
   "execution_count": 75,
   "metadata": {
    "collapsed": false
   },
   "outputs": [
    {
     "data": {
      "text/plain": [
       "'VE'"
      ]
     },
     "execution_count": 75,
     "metadata": {},
     "output_type": "execute_result"
    }
   ],
   "source": [
    "country.alpha2"
   ]
  },
  {
   "cell_type": "code",
   "execution_count": 83,
   "metadata": {
    "collapsed": true
   },
   "outputs": [],
   "source": [
    "from bs4 import BeautifulSoup\n",
    "import requests"
   ]
  },
  {
   "cell_type": "code",
   "execution_count": 84,
   "metadata": {
    "collapsed": false
   },
   "outputs": [],
   "source": [
    "r = requests.get(\"http://www.iwf.net/focus-on-iwf/federations/?federation=panamerica\")\n",
    "soup = BeautifulSoup(r.content)\n",
    "rows = soup.find_all(\"tr\")"
   ]
  },
  {
   "cell_type": "code",
   "execution_count": 115,
   "metadata": {
    "collapsed": false
   },
   "outputs": [],
   "source": [
    "country_codes = []\n",
    "country_names = []\n",
    "federations = ['http://www.iwf.net/focus-on-iwf/federations/?federation=panamerica',\n",
    "               'http://www.iwf.net/focus-on-iwf/federations/?federation=europe',\n",
    "               'http://www.iwf.net/focus-on-iwf/federations/?federation=asia',\n",
    "               'http://www.iwf.net/focus-on-iwf/federations/?federation=oceania',\n",
    "               'http://www.iwf.net/focus-on-iwf/federations/?federation=africa']\n",
    "\n",
    "for link in federations:\n",
    "    r = requests.get(link)\n",
    "    soup = BeautifulSoup(r.content)\n",
    "    rows = soup.find_all(\"tr\")\n",
    "    for row in rows:\n",
    "        cells = row.find_all('td')\n",
    "        for i, cell in enumerate(cells):\n",
    "            if i == 1:\n",
    "                country_codes.append(cell.text.strip().lower())\n",
    "            \n",
    "        for i, cell in enumerate(cells):\n",
    "            if i == 0:\n",
    "                country_names.append(cell.text.strip())\n",
    "            "
   ]
  },
  {
   "cell_type": "code",
   "execution_count": 116,
   "metadata": {
    "collapsed": false
   },
   "outputs": [
    {
     "data": {
      "text/plain": [
       "['code', 'ant', 'arg', 'aru', 'bah']"
      ]
     },
     "execution_count": 116,
     "metadata": {},
     "output_type": "execute_result"
    }
   ],
   "source": [
    "country_codes[:5]"
   ]
  },
  {
   "cell_type": "code",
   "execution_count": 117,
   "metadata": {
    "collapsed": false
   },
   "outputs": [],
   "source": [
    "country_dict = {}\n",
    "\n",
    "for i in range(len(country_codes)):\n",
    "    if country_codes[i] not in country_dict:\n",
    "        country_dict[country_codes[i]] = country_names[i]"
   ]
  },
  {
   "cell_type": "code",
   "execution_count": 118,
   "metadata": {
    "collapsed": false
   },
   "outputs": [
    {
     "data": {
      "text/plain": [
       "{'afg': 'AFGHANISTAN',\n",
       " 'alb': 'ALBANIA',\n",
       " 'alg': 'ALGERIA',\n",
       " 'ant': 'ANTIGUA AND BARBUDA',\n",
       " 'arg': 'ARGENTINA',\n",
       " 'arm': 'ARMENIA',\n",
       " 'aru': 'ARUBA',\n",
       " 'asa': 'AMERICAN SAMOA',\n",
       " 'aus': 'AUSTRALIA',\n",
       " 'aut': 'AUSTRIA',\n",
       " 'aze': 'AZERBAIJAN',\n",
       " 'bah': 'BAHAMAS',\n",
       " 'ban': 'BANGLADESH',\n",
       " 'bar': 'BARBADOS',\n",
       " 'bel': 'BELGIUM',\n",
       " 'bhu': 'BHUTAN',\n",
       " 'bih': 'BOSNIA AND HERZEGOVINA',\n",
       " 'biz': 'BELIZE',\n",
       " 'blr': 'BELARUS',\n",
       " 'bol': 'BOLIVIA',\n",
       " 'bot': 'BOTSWANA',\n",
       " 'bra': 'BRAZIL',\n",
       " 'brn': 'BAHRAIN',\n",
       " 'bru': 'BRUNEI DARUSSALAM',\n",
       " 'bul': 'BULGARIA',\n",
       " 'cam': 'CAMBODIA',\n",
       " 'can': 'CANADA',\n",
       " 'cay': 'CAYMAN ISLANDS',\n",
       " 'cgo': 'CONGO',\n",
       " 'chi': 'CHILE',\n",
       " 'chn': \"PEOPLE'S REPUBLIC OF CHINA\",\n",
       " 'cmr': 'CAMEROUN',\n",
       " 'cod': 'DEMOCRATIC REPUBLIC OF THE CONGO',\n",
       " 'code': 'Member',\n",
       " 'cok': 'COOK ISLANDS',\n",
       " 'col': 'COLOMBIA',\n",
       " 'com': 'COMOROS',\n",
       " 'crc': 'COSTA RICA',\n",
       " 'cro': 'CROATIA',\n",
       " 'cub': 'CUBA',\n",
       " 'cur': 'CURACAO',\n",
       " 'cyp': 'CYPRUS',\n",
       " 'cze': 'CZECH REPUBLIC',\n",
       " 'den': 'DENMARK',\n",
       " 'dom': 'DOMINICAN REPUBLIC',\n",
       " 'ecu': 'ECUADOR',\n",
       " 'egy': 'EGYPT',\n",
       " 'esa': 'EL SALVADOR',\n",
       " 'esp': 'SPAIN',\n",
       " 'est': 'ESTONIA',\n",
       " 'eth': 'ETHIOPIA',\n",
       " 'fij': 'FIJI',\n",
       " 'fin': 'FINLAND',\n",
       " 'fra': 'FRANCE',\n",
       " 'fsm': 'FEDERATED STATES OF MICRONESIA',\n",
       " 'gam': 'GAMBIA',\n",
       " 'gbr': 'GREAT BRITAIN',\n",
       " 'geo': 'GEORGIA',\n",
       " 'ger': 'GERMANY',\n",
       " 'gha': 'GHANA',\n",
       " 'gre': 'GREECE',\n",
       " 'gua': 'GUATEMALA',\n",
       " 'gui': 'GUINEA',\n",
       " 'gum': 'GUAM',\n",
       " 'guy': 'GUYANA',\n",
       " 'hai': 'HAITI',\n",
       " 'hkg': 'HONG KONG',\n",
       " 'hon': 'HONDURAS',\n",
       " 'hun': 'HUNGARY',\n",
       " 'ina': 'INDONESIA',\n",
       " 'ind': 'INDIA',\n",
       " 'iri': 'ISLAMIC REPUBLIC OF IRAN',\n",
       " 'irl': 'IRELAND',\n",
       " 'irq': 'IRAQ',\n",
       " 'isl': 'ICELAND',\n",
       " 'isr': 'ISRAEL',\n",
       " 'isv': 'U.S. VIRGIN ISLANDS',\n",
       " 'ita': 'ITALY',\n",
       " 'jam': 'JAMAICA',\n",
       " 'jor': 'JORDAN',\n",
       " 'jpn': 'JAPAN',\n",
       " 'kaz': 'KAZAKHSTAN',\n",
       " 'ken': 'KENYA',\n",
       " 'kgz': 'KYRGYZSTAN',\n",
       " 'kir': 'KIRIBATI',\n",
       " 'kor': 'REPUBLIC OF KOREA',\n",
       " 'kos': 'KOSOVO',\n",
       " 'ksa': 'SAUDI ARABIA',\n",
       " 'kuw': 'KUWAIT',\n",
       " 'lao': \"LAO PEOPLE'S DEMOCRATIC REPUBLIC\",\n",
       " 'lat': 'LATVIA',\n",
       " 'lba': 'LIBYA',\n",
       " 'lbr': 'LIBERIA',\n",
       " 'les': 'LESOTHO',\n",
       " 'lib': 'LEBANON',\n",
       " 'ltu': 'LITHUANIA',\n",
       " 'lux': 'LUXEMBOURG',\n",
       " 'mac': 'MACAU',\n",
       " 'mad': 'MADAGASCAR',\n",
       " 'mar': 'MOROCCO',\n",
       " 'mas': 'MALAYSIA',\n",
       " 'maw': 'MALAWI',\n",
       " 'mda': 'REPUBLIC OF MOLDOVA',\n",
       " 'mdv': 'MALDIVES',\n",
       " 'mex': 'MEXICO',\n",
       " 'mgl': 'MONGOLIA',\n",
       " 'mhl': 'MARSHALL ISLANDS',\n",
       " 'mli': 'MALI',\n",
       " 'mlt': 'MALTA',\n",
       " 'mon': 'MONACO',\n",
       " 'mri': 'MAURITIUS',\n",
       " 'mtn': 'MAURITANIA',\n",
       " 'mya': 'MYANMAR',\n",
       " 'nca': 'NICARAGUA',\n",
       " 'ncl': 'NEW CALEDONIA',\n",
       " 'ned': 'NETHERLANDS',\n",
       " 'nep': 'NEPAL',\n",
       " 'ngr': 'NIGERIA',\n",
       " 'nir': 'NORTHERN IRELAND',\n",
       " 'niu': 'NIUE',\n",
       " 'nmi': 'NORTHERN MARIANAS',\n",
       " 'nor': 'NORWAY',\n",
       " 'nrf': 'NORFOLK ISLANDS',\n",
       " 'nru': 'NAURU',\n",
       " 'nzl': 'NEW ZEALAND',\n",
       " 'oma': 'OMAN',\n",
       " 'pak': 'PAKISTAN',\n",
       " 'pan': 'PANAMA',\n",
       " 'par': 'PARAGUAY',\n",
       " 'per': 'PERU',\n",
       " 'phi': 'PHILIPPINES',\n",
       " 'ple': 'PALESTINE',\n",
       " 'plw': 'PALAU',\n",
       " 'png': 'PAPUA NEW GUINEA',\n",
       " 'pol': 'POLAND',\n",
       " 'por': 'PORTUGAL',\n",
       " 'prk': \"DEMOCRATIC PEOPLE'S REPUBLIC OF KOREA\",\n",
       " 'pur': 'PUERTO RICO',\n",
       " 'qat': 'QATAR',\n",
       " 'rou': 'ROMANIA',\n",
       " 'rsa': 'SOUTH AFRICA',\n",
       " 'rus': 'RUSSIAN FEDERATION',\n",
       " 'sam': 'SAMOA',\n",
       " 'sco': 'SCOTLAND',\n",
       " 'sen': 'SENEGAL',\n",
       " 'sey': 'SEYCHELLES',\n",
       " 'sin': 'SINGAPORE',\n",
       " 'sle': 'SIERRA LEONE',\n",
       " 'slo': 'SLOVENIA',\n",
       " 'smr': 'SAN MARINO',\n",
       " 'sol': 'SOLOMON ISLANDS',\n",
       " 'som': 'SOMALIA',\n",
       " 'srb': 'SERBIA',\n",
       " 'sri': 'SRI LANKA',\n",
       " 'sud': 'SUDAN',\n",
       " 'sui': 'SWITZERLAND',\n",
       " 'sur': 'SURINAME',\n",
       " 'svk': 'SLOVAKIA',\n",
       " 'swe': 'SWEDEN',\n",
       " 'swz': 'SWAZILAND',\n",
       " 'syr': 'SYRIAN ARAB REPUBLIC',\n",
       " 'tah': 'TAHITI',\n",
       " 'tan': 'UNITED REPUBLIC OF TANZANIA',\n",
       " 'tca': 'TURKS & CAICOS ISLANDS',\n",
       " 'tga': 'TONGA',\n",
       " 'tha': 'THAILAND',\n",
       " 'tjk': 'TAJIKISTAN',\n",
       " 'tkm': 'TURKMENISTAN',\n",
       " 'tls': 'DEMOCRATIC REPUBLIC OF TIMOR-LESTE',\n",
       " 'tpe': 'CHINESE TAIPEI',\n",
       " 'tri': 'TRINIDAD AND TOBAGO',\n",
       " 'tun': 'TUNISIA',\n",
       " 'tur': 'TURKEY',\n",
       " 'tuv': 'TUVALU',\n",
       " 'uae': 'UNITED ARAB EMIRATES',\n",
       " 'uga': 'UGANDA',\n",
       " 'ukr': 'UKRAINE',\n",
       " 'uru': 'URUGUAY',\n",
       " 'usa': 'UNITED STATES OF AMERICA',\n",
       " 'uzb': 'UZBEKISTAN',\n",
       " 'van': 'VANUATU',\n",
       " 'ven': 'VENEZUELA',\n",
       " 'vie': 'VIETNAM',\n",
       " 'vin': 'ST. VINCENT AND THE GRENADINES',\n",
       " 'wal': 'WALES',\n",
       " 'yem': 'YEMEN',\n",
       " 'zam': 'ZAMBIA',\n",
       " 'zan': 'ZANZIBAR',\n",
       " 'zim': 'ZIMBABWE'}"
      ]
     },
     "execution_count": 118,
     "metadata": {},
     "output_type": "execute_result"
    }
   ],
   "source": [
    "country_dict"
   ]
  },
  {
   "cell_type": "code",
   "execution_count": 139,
   "metadata": {
    "collapsed": true
   },
   "outputs": [],
   "source": [
    "#adding country name\n",
    "def CN(row):\n",
    "    country_lower = row['Country'].lower()\n",
    "    try:\n",
    "        return country_dict[country_lower]\n",
    "    except:\n",
    "        return 'NO'"
   ]
  },
  {
   "cell_type": "code",
   "execution_count": 151,
   "metadata": {
    "collapsed": false
   },
   "outputs": [
    {
     "data": {
      "text/html": [
       "<div>\n",
       "<table border=\"1\" class=\"dataframe\">\n",
       "  <thead>\n",
       "    <tr style=\"text-align: right;\">\n",
       "      <th></th>\n",
       "      <th>Lifter</th>\n",
       "      <th>LC</th>\n",
       "      <th>Country</th>\n",
       "      <th>CC</th>\n",
       "      <th>Age</th>\n",
       "      <th>Birth</th>\n",
       "      <th>Weight</th>\n",
       "      <th>Year</th>\n",
       "      <th>Snatch</th>\n",
       "      <th>Clean and Jerk</th>\n",
       "      <th>Total</th>\n",
       "      <th>NSC</th>\n",
       "      <th>Country Name</th>\n",
       "    </tr>\n",
       "  </thead>\n",
       "  <tbody>\n",
       "    <tr>\n",
       "      <th>0</th>\n",
       "      <td>IVANOV Ivan</td>\n",
       "      <td>0</td>\n",
       "      <td>BUL</td>\n",
       "      <td>0</td>\n",
       "      <td>27</td>\n",
       "      <td>1971</td>\n",
       "      <td>55.86</td>\n",
       "      <td>1998</td>\n",
       "      <td>122.5</td>\n",
       "      <td>160.0</td>\n",
       "      <td>282.5</td>\n",
       "      <td>-22.412757</td>\n",
       "      <td>BULGARIA</td>\n",
       "    </tr>\n",
       "    <tr>\n",
       "      <th>1</th>\n",
       "      <td>VARGAS William Trujillo</td>\n",
       "      <td>1</td>\n",
       "      <td>CUB</td>\n",
       "      <td>1</td>\n",
       "      <td>28</td>\n",
       "      <td>1970</td>\n",
       "      <td>55.94</td>\n",
       "      <td>1998</td>\n",
       "      <td>127.5</td>\n",
       "      <td>155.0</td>\n",
       "      <td>282.5</td>\n",
       "      <td>-22.882967</td>\n",
       "      <td>CUBA</td>\n",
       "    </tr>\n",
       "    <tr>\n",
       "      <th>2</th>\n",
       "      <td>JIGAU Adrian Ioan</td>\n",
       "      <td>2</td>\n",
       "      <td>ROU</td>\n",
       "      <td>2</td>\n",
       "      <td>28</td>\n",
       "      <td>1970</td>\n",
       "      <td>55.79</td>\n",
       "      <td>1998</td>\n",
       "      <td>117.5</td>\n",
       "      <td>145.0</td>\n",
       "      <td>262.5</td>\n",
       "      <td>-41.999190</td>\n",
       "      <td>ROMANIA</td>\n",
       "    </tr>\n",
       "    <tr>\n",
       "      <th>3</th>\n",
       "      <td>ALVAREZ BOULET Sergio</td>\n",
       "      <td>3</td>\n",
       "      <td>CUB</td>\n",
       "      <td>1</td>\n",
       "      <td>19</td>\n",
       "      <td>1979</td>\n",
       "      <td>55.75</td>\n",
       "      <td>1998</td>\n",
       "      <td>115.0</td>\n",
       "      <td>142.5</td>\n",
       "      <td>257.5</td>\n",
       "      <td>-46.761965</td>\n",
       "      <td>CUBA</td>\n",
       "    </tr>\n",
       "    <tr>\n",
       "      <th>4</th>\n",
       "      <td>BONNEL Eric</td>\n",
       "      <td>4</td>\n",
       "      <td>FRA</td>\n",
       "      <td>3</td>\n",
       "      <td>24</td>\n",
       "      <td>1974</td>\n",
       "      <td>55.50</td>\n",
       "      <td>1998</td>\n",
       "      <td>110.0</td>\n",
       "      <td>142.5</td>\n",
       "      <td>252.5</td>\n",
       "      <td>-50.264201</td>\n",
       "      <td>FRANCE</td>\n",
       "    </tr>\n",
       "  </tbody>\n",
       "</table>\n",
       "</div>"
      ],
      "text/plain": [
       "                    Lifter  LC Country  CC  Age  Birth  Weight  Year  Snatch  \\\n",
       "0              IVANOV Ivan   0     BUL   0   27   1971   55.86  1998   122.5   \n",
       "1  VARGAS William Trujillo   1     CUB   1   28   1970   55.94  1998   127.5   \n",
       "2        JIGAU Adrian Ioan   2     ROU   2   28   1970   55.79  1998   117.5   \n",
       "3    ALVAREZ BOULET Sergio   3     CUB   1   19   1979   55.75  1998   115.0   \n",
       "4              BONNEL Eric   4     FRA   3   24   1974   55.50  1998   110.0   \n",
       "\n",
       "   Clean and Jerk  Total        NSC Country Name  \n",
       "0           160.0  282.5 -22.412757     BULGARIA  \n",
       "1           155.0  282.5 -22.882967         CUBA  \n",
       "2           145.0  262.5 -41.999190      ROMANIA  \n",
       "3           142.5  257.5 -46.761965         CUBA  \n",
       "4           142.5  252.5 -50.264201       FRANCE  "
      ]
     },
     "execution_count": 151,
     "metadata": {},
     "output_type": "execute_result"
    }
   ],
   "source": [
    "recent_data.head()"
   ]
  },
  {
   "cell_type": "code",
   "execution_count": 140,
   "metadata": {
    "collapsed": false
   },
   "outputs": [
    {
     "name": "stderr",
     "output_type": "stream",
     "text": [
      "//anaconda/lib/python3.4/site-packages/ipykernel/__main__.py:1: SettingWithCopyWarning: \n",
      "A value is trying to be set on a copy of a slice from a DataFrame.\n",
      "Try using .loc[row_indexer,col_indexer] = value instead\n",
      "\n",
      "See the caveats in the documentation: http://pandas.pydata.org/pandas-docs/stable/indexing.html#indexing-view-versus-copy\n",
      "  if __name__ == '__main__':\n"
     ]
    }
   ],
   "source": [
    "recent_data['Country Name'] = recent_data.apply(lambda row: CN(row),axis=1)"
   ]
  },
  {
   "cell_type": "code",
   "execution_count": 143,
   "metadata": {
    "collapsed": false
   },
   "outputs": [],
   "source": [
    "recent_data = recent_data[recent_data['Country Name']!= 'NO']"
   ]
  },
  {
   "cell_type": "code",
   "execution_count": null,
   "metadata": {
    "collapsed": true
   },
   "outputs": [],
   "source": [
    "def long(row):\n",
    "    location1 = geolocator.geocode(row['Country Name'])\n",
    "    return location1.longitude"
   ]
  },
  {
   "cell_type": "code",
   "execution_count": 147,
   "metadata": {
    "collapsed": true
   },
   "outputs": [],
   "source": [
    "countries_lat = {}\n",
    "countries_long = {}\n",
    "\n",
    "for country in country_names:\n",
    "    if country not in countries_lat:\n",
    "        countries_lat[country]= geolocator.geocode(country).latitude\n",
    "        countries_long[country]= geolocator.geocode(country).longitude"
   ]
  },
  {
   "cell_type": "code",
   "execution_count": 152,
   "metadata": {
    "collapsed": false
   },
   "outputs": [],
   "source": [
    "def lat(row):\n",
    "    return countries_lat[row['Country Name']]"
   ]
  },
  {
   "cell_type": "code",
   "execution_count": 155,
   "metadata": {
    "collapsed": true
   },
   "outputs": [],
   "source": [
    "def long(row):\n",
    "    return countries_long[row['Country Name']]"
   ]
  },
  {
   "cell_type": "code",
   "execution_count": 153,
   "metadata": {
    "collapsed": false
   },
   "outputs": [],
   "source": [
    "recent_data['Lat'] = recent_data.apply(lambda row: lat(row),axis=1)"
   ]
  },
  {
   "cell_type": "code",
   "execution_count": 156,
   "metadata": {
    "collapsed": false
   },
   "outputs": [],
   "source": [
    "recent_data['Long'] = recent_data.apply(lambda row: long(row),axis=1)"
   ]
  },
  {
   "cell_type": "code",
   "execution_count": 157,
   "metadata": {
    "collapsed": false
   },
   "outputs": [
    {
     "data": {
      "text/html": [
       "<div>\n",
       "<table border=\"1\" class=\"dataframe\">\n",
       "  <thead>\n",
       "    <tr style=\"text-align: right;\">\n",
       "      <th></th>\n",
       "      <th>Lifter</th>\n",
       "      <th>LC</th>\n",
       "      <th>Country</th>\n",
       "      <th>CC</th>\n",
       "      <th>Age</th>\n",
       "      <th>Birth</th>\n",
       "      <th>Weight</th>\n",
       "      <th>Year</th>\n",
       "      <th>Snatch</th>\n",
       "      <th>Clean and Jerk</th>\n",
       "      <th>Total</th>\n",
       "      <th>NSC</th>\n",
       "      <th>Country Name</th>\n",
       "      <th>Lat</th>\n",
       "      <th>Long</th>\n",
       "    </tr>\n",
       "  </thead>\n",
       "  <tbody>\n",
       "    <tr>\n",
       "      <th>0</th>\n",
       "      <td>IVANOV Ivan</td>\n",
       "      <td>0</td>\n",
       "      <td>BUL</td>\n",
       "      <td>0</td>\n",
       "      <td>27</td>\n",
       "      <td>1971</td>\n",
       "      <td>55.86</td>\n",
       "      <td>1998</td>\n",
       "      <td>122.5</td>\n",
       "      <td>160.0</td>\n",
       "      <td>282.5</td>\n",
       "      <td>-22.412757</td>\n",
       "      <td>BULGARIA</td>\n",
       "      <td>42.607397</td>\n",
       "      <td>25.485662</td>\n",
       "    </tr>\n",
       "    <tr>\n",
       "      <th>1</th>\n",
       "      <td>VARGAS William Trujillo</td>\n",
       "      <td>1</td>\n",
       "      <td>CUB</td>\n",
       "      <td>1</td>\n",
       "      <td>28</td>\n",
       "      <td>1970</td>\n",
       "      <td>55.94</td>\n",
       "      <td>1998</td>\n",
       "      <td>127.5</td>\n",
       "      <td>155.0</td>\n",
       "      <td>282.5</td>\n",
       "      <td>-22.882967</td>\n",
       "      <td>CUBA</td>\n",
       "      <td>23.013134</td>\n",
       "      <td>-80.832875</td>\n",
       "    </tr>\n",
       "    <tr>\n",
       "      <th>2</th>\n",
       "      <td>JIGAU Adrian Ioan</td>\n",
       "      <td>2</td>\n",
       "      <td>ROU</td>\n",
       "      <td>2</td>\n",
       "      <td>28</td>\n",
       "      <td>1970</td>\n",
       "      <td>55.79</td>\n",
       "      <td>1998</td>\n",
       "      <td>117.5</td>\n",
       "      <td>145.0</td>\n",
       "      <td>262.5</td>\n",
       "      <td>-41.999190</td>\n",
       "      <td>ROMANIA</td>\n",
       "      <td>45.985213</td>\n",
       "      <td>24.685923</td>\n",
       "    </tr>\n",
       "    <tr>\n",
       "      <th>3</th>\n",
       "      <td>ALVAREZ BOULET Sergio</td>\n",
       "      <td>3</td>\n",
       "      <td>CUB</td>\n",
       "      <td>1</td>\n",
       "      <td>19</td>\n",
       "      <td>1979</td>\n",
       "      <td>55.75</td>\n",
       "      <td>1998</td>\n",
       "      <td>115.0</td>\n",
       "      <td>142.5</td>\n",
       "      <td>257.5</td>\n",
       "      <td>-46.761965</td>\n",
       "      <td>CUBA</td>\n",
       "      <td>23.013134</td>\n",
       "      <td>-80.832875</td>\n",
       "    </tr>\n",
       "    <tr>\n",
       "      <th>4</th>\n",
       "      <td>BONNEL Eric</td>\n",
       "      <td>4</td>\n",
       "      <td>FRA</td>\n",
       "      <td>3</td>\n",
       "      <td>24</td>\n",
       "      <td>1974</td>\n",
       "      <td>55.50</td>\n",
       "      <td>1998</td>\n",
       "      <td>110.0</td>\n",
       "      <td>142.5</td>\n",
       "      <td>252.5</td>\n",
       "      <td>-50.264201</td>\n",
       "      <td>FRANCE</td>\n",
       "      <td>46.603354</td>\n",
       "      <td>1.888334</td>\n",
       "    </tr>\n",
       "  </tbody>\n",
       "</table>\n",
       "</div>"
      ],
      "text/plain": [
       "                    Lifter  LC Country  CC  Age  Birth  Weight  Year  Snatch  \\\n",
       "0              IVANOV Ivan   0     BUL   0   27   1971   55.86  1998   122.5   \n",
       "1  VARGAS William Trujillo   1     CUB   1   28   1970   55.94  1998   127.5   \n",
       "2        JIGAU Adrian Ioan   2     ROU   2   28   1970   55.79  1998   117.5   \n",
       "3    ALVAREZ BOULET Sergio   3     CUB   1   19   1979   55.75  1998   115.0   \n",
       "4              BONNEL Eric   4     FRA   3   24   1974   55.50  1998   110.0   \n",
       "\n",
       "   Clean and Jerk  Total        NSC Country Name        Lat       Long  \n",
       "0           160.0  282.5 -22.412757     BULGARIA  42.607397  25.485662  \n",
       "1           155.0  282.5 -22.882967         CUBA  23.013134 -80.832875  \n",
       "2           145.0  262.5 -41.999190      ROMANIA  45.985213  24.685923  \n",
       "3           142.5  257.5 -46.761965         CUBA  23.013134 -80.832875  \n",
       "4           142.5  252.5 -50.264201       FRANCE  46.603354   1.888334  "
      ]
     },
     "execution_count": 157,
     "metadata": {},
     "output_type": "execute_result"
    }
   ],
   "source": [
    "recent_data.head()"
   ]
  },
  {
   "cell_type": "code",
   "execution_count": 158,
   "metadata": {
    "collapsed": true
   },
   "outputs": [],
   "source": [
    "recent_data = recent_data[['LC','Lifter','Weight', 'Age','Birth','Country Name','Lat', 'Long', 'Year', 'Snatch','Clean and Jerk','Total','NSC']]"
   ]
  },
  {
   "cell_type": "code",
   "execution_count": 159,
   "metadata": {
    "collapsed": false
   },
   "outputs": [
    {
     "data": {
      "text/html": [
       "<div>\n",
       "<table border=\"1\" class=\"dataframe\">\n",
       "  <thead>\n",
       "    <tr style=\"text-align: right;\">\n",
       "      <th></th>\n",
       "      <th>LC</th>\n",
       "      <th>Lifter</th>\n",
       "      <th>Weight</th>\n",
       "      <th>Age</th>\n",
       "      <th>Birth</th>\n",
       "      <th>Country Name</th>\n",
       "      <th>Lat</th>\n",
       "      <th>Long</th>\n",
       "      <th>Year</th>\n",
       "      <th>Snatch</th>\n",
       "      <th>Clean and Jerk</th>\n",
       "      <th>Total</th>\n",
       "      <th>NSC</th>\n",
       "    </tr>\n",
       "  </thead>\n",
       "  <tbody>\n",
       "    <tr>\n",
       "      <th>0</th>\n",
       "      <td>0</td>\n",
       "      <td>IVANOV Ivan</td>\n",
       "      <td>55.86</td>\n",
       "      <td>27</td>\n",
       "      <td>1971</td>\n",
       "      <td>BULGARIA</td>\n",
       "      <td>42.607397</td>\n",
       "      <td>25.485662</td>\n",
       "      <td>1998</td>\n",
       "      <td>122.5</td>\n",
       "      <td>160.0</td>\n",
       "      <td>282.5</td>\n",
       "      <td>-22.412757</td>\n",
       "    </tr>\n",
       "    <tr>\n",
       "      <th>1</th>\n",
       "      <td>1</td>\n",
       "      <td>VARGAS William Trujillo</td>\n",
       "      <td>55.94</td>\n",
       "      <td>28</td>\n",
       "      <td>1970</td>\n",
       "      <td>CUBA</td>\n",
       "      <td>23.013134</td>\n",
       "      <td>-80.832875</td>\n",
       "      <td>1998</td>\n",
       "      <td>127.5</td>\n",
       "      <td>155.0</td>\n",
       "      <td>282.5</td>\n",
       "      <td>-22.882967</td>\n",
       "    </tr>\n",
       "    <tr>\n",
       "      <th>2</th>\n",
       "      <td>2</td>\n",
       "      <td>JIGAU Adrian Ioan</td>\n",
       "      <td>55.79</td>\n",
       "      <td>28</td>\n",
       "      <td>1970</td>\n",
       "      <td>ROMANIA</td>\n",
       "      <td>45.985213</td>\n",
       "      <td>24.685923</td>\n",
       "      <td>1998</td>\n",
       "      <td>117.5</td>\n",
       "      <td>145.0</td>\n",
       "      <td>262.5</td>\n",
       "      <td>-41.999190</td>\n",
       "    </tr>\n",
       "    <tr>\n",
       "      <th>3</th>\n",
       "      <td>3</td>\n",
       "      <td>ALVAREZ BOULET Sergio</td>\n",
       "      <td>55.75</td>\n",
       "      <td>19</td>\n",
       "      <td>1979</td>\n",
       "      <td>CUBA</td>\n",
       "      <td>23.013134</td>\n",
       "      <td>-80.832875</td>\n",
       "      <td>1998</td>\n",
       "      <td>115.0</td>\n",
       "      <td>142.5</td>\n",
       "      <td>257.5</td>\n",
       "      <td>-46.761965</td>\n",
       "    </tr>\n",
       "    <tr>\n",
       "      <th>4</th>\n",
       "      <td>4</td>\n",
       "      <td>BONNEL Eric</td>\n",
       "      <td>55.50</td>\n",
       "      <td>24</td>\n",
       "      <td>1974</td>\n",
       "      <td>FRANCE</td>\n",
       "      <td>46.603354</td>\n",
       "      <td>1.888334</td>\n",
       "      <td>1998</td>\n",
       "      <td>110.0</td>\n",
       "      <td>142.5</td>\n",
       "      <td>252.5</td>\n",
       "      <td>-50.264201</td>\n",
       "    </tr>\n",
       "  </tbody>\n",
       "</table>\n",
       "</div>"
      ],
      "text/plain": [
       "   LC                   Lifter  Weight  Age  Birth Country Name        Lat  \\\n",
       "0   0              IVANOV Ivan   55.86   27   1971     BULGARIA  42.607397   \n",
       "1   1  VARGAS William Trujillo   55.94   28   1970         CUBA  23.013134   \n",
       "2   2        JIGAU Adrian Ioan   55.79   28   1970      ROMANIA  45.985213   \n",
       "3   3    ALVAREZ BOULET Sergio   55.75   19   1979         CUBA  23.013134   \n",
       "4   4              BONNEL Eric   55.50   24   1974       FRANCE  46.603354   \n",
       "\n",
       "        Long  Year  Snatch  Clean and Jerk  Total        NSC  \n",
       "0  25.485662  1998   122.5           160.0  282.5 -22.412757  \n",
       "1 -80.832875  1998   127.5           155.0  282.5 -22.882967  \n",
       "2  24.685923  1998   117.5           145.0  262.5 -41.999190  \n",
       "3 -80.832875  1998   115.0           142.5  257.5 -46.761965  \n",
       "4   1.888334  1998   110.0           142.5  252.5 -50.264201  "
      ]
     },
     "execution_count": 159,
     "metadata": {},
     "output_type": "execute_result"
    }
   ],
   "source": [
    "recent_data.head()"
   ]
  },
  {
   "cell_type": "code",
   "execution_count": 160,
   "metadata": {
    "collapsed": true
   },
   "outputs": [],
   "source": [
    "#saving data with lat-long\n",
    "class Company(object):\n",
    "    def __init__(self, recgeo):\n",
    "        self.recgeo = recgeo\n",
    "\n",
    "with open('recent_geo.pkl', 'wb') as output:\n",
    "    recent_c = Company(recent_data)\n",
    "    pickle.dump(recent_c, output, pickle.HIGHEST_PROTOCOL)"
   ]
  },
  {
   "cell_type": "code",
   "execution_count": 163,
   "metadata": {
    "collapsed": true
   },
   "outputs": [],
   "source": [
    "#opens the file to make sure it worked    \n",
    "with open('recent_geo.pkl', 'rb') as input:\n",
    "    rgeo = pickle.load(input)  \n",
    "r_geo = rgeo.recgeo   "
   ]
  },
  {
   "cell_type": "code",
   "execution_count": 164,
   "metadata": {
    "collapsed": false
   },
   "outputs": [
    {
     "data": {
      "text/html": [
       "<div>\n",
       "<table border=\"1\" class=\"dataframe\">\n",
       "  <thead>\n",
       "    <tr style=\"text-align: right;\">\n",
       "      <th></th>\n",
       "      <th>LC</th>\n",
       "      <th>Lifter</th>\n",
       "      <th>Weight</th>\n",
       "      <th>Age</th>\n",
       "      <th>Birth</th>\n",
       "      <th>Country Name</th>\n",
       "      <th>Lat</th>\n",
       "      <th>Long</th>\n",
       "      <th>Year</th>\n",
       "      <th>Snatch</th>\n",
       "      <th>Clean and Jerk</th>\n",
       "      <th>Total</th>\n",
       "      <th>NSC</th>\n",
       "    </tr>\n",
       "  </thead>\n",
       "  <tbody>\n",
       "    <tr>\n",
       "      <th>0</th>\n",
       "      <td>0</td>\n",
       "      <td>IVANOV Ivan</td>\n",
       "      <td>55.86</td>\n",
       "      <td>27</td>\n",
       "      <td>1971</td>\n",
       "      <td>BULGARIA</td>\n",
       "      <td>42.607397</td>\n",
       "      <td>25.485662</td>\n",
       "      <td>1998</td>\n",
       "      <td>122.5</td>\n",
       "      <td>160.0</td>\n",
       "      <td>282.5</td>\n",
       "      <td>-22.412757</td>\n",
       "    </tr>\n",
       "    <tr>\n",
       "      <th>1</th>\n",
       "      <td>1</td>\n",
       "      <td>VARGAS William Trujillo</td>\n",
       "      <td>55.94</td>\n",
       "      <td>28</td>\n",
       "      <td>1970</td>\n",
       "      <td>CUBA</td>\n",
       "      <td>23.013134</td>\n",
       "      <td>-80.832875</td>\n",
       "      <td>1998</td>\n",
       "      <td>127.5</td>\n",
       "      <td>155.0</td>\n",
       "      <td>282.5</td>\n",
       "      <td>-22.882967</td>\n",
       "    </tr>\n",
       "    <tr>\n",
       "      <th>2</th>\n",
       "      <td>2</td>\n",
       "      <td>JIGAU Adrian Ioan</td>\n",
       "      <td>55.79</td>\n",
       "      <td>28</td>\n",
       "      <td>1970</td>\n",
       "      <td>ROMANIA</td>\n",
       "      <td>45.985213</td>\n",
       "      <td>24.685923</td>\n",
       "      <td>1998</td>\n",
       "      <td>117.5</td>\n",
       "      <td>145.0</td>\n",
       "      <td>262.5</td>\n",
       "      <td>-41.999190</td>\n",
       "    </tr>\n",
       "    <tr>\n",
       "      <th>3</th>\n",
       "      <td>3</td>\n",
       "      <td>ALVAREZ BOULET Sergio</td>\n",
       "      <td>55.75</td>\n",
       "      <td>19</td>\n",
       "      <td>1979</td>\n",
       "      <td>CUBA</td>\n",
       "      <td>23.013134</td>\n",
       "      <td>-80.832875</td>\n",
       "      <td>1998</td>\n",
       "      <td>115.0</td>\n",
       "      <td>142.5</td>\n",
       "      <td>257.5</td>\n",
       "      <td>-46.761965</td>\n",
       "    </tr>\n",
       "    <tr>\n",
       "      <th>4</th>\n",
       "      <td>4</td>\n",
       "      <td>BONNEL Eric</td>\n",
       "      <td>55.50</td>\n",
       "      <td>24</td>\n",
       "      <td>1974</td>\n",
       "      <td>FRANCE</td>\n",
       "      <td>46.603354</td>\n",
       "      <td>1.888334</td>\n",
       "      <td>1998</td>\n",
       "      <td>110.0</td>\n",
       "      <td>142.5</td>\n",
       "      <td>252.5</td>\n",
       "      <td>-50.264201</td>\n",
       "    </tr>\n",
       "  </tbody>\n",
       "</table>\n",
       "</div>"
      ],
      "text/plain": [
       "   LC                   Lifter  Weight  Age  Birth Country Name        Lat  \\\n",
       "0   0              IVANOV Ivan   55.86   27   1971     BULGARIA  42.607397   \n",
       "1   1  VARGAS William Trujillo   55.94   28   1970         CUBA  23.013134   \n",
       "2   2        JIGAU Adrian Ioan   55.79   28   1970      ROMANIA  45.985213   \n",
       "3   3    ALVAREZ BOULET Sergio   55.75   19   1979         CUBA  23.013134   \n",
       "4   4              BONNEL Eric   55.50   24   1974       FRANCE  46.603354   \n",
       "\n",
       "        Long  Year  Snatch  Clean and Jerk  Total        NSC  \n",
       "0  25.485662  1998   122.5           160.0  282.5 -22.412757  \n",
       "1 -80.832875  1998   127.5           155.0  282.5 -22.882967  \n",
       "2  24.685923  1998   117.5           145.0  262.5 -41.999190  \n",
       "3 -80.832875  1998   115.0           142.5  257.5 -46.761965  \n",
       "4   1.888334  1998   110.0           142.5  252.5 -50.264201  "
      ]
     },
     "execution_count": 164,
     "metadata": {},
     "output_type": "execute_result"
    }
   ],
   "source": [
    "r_geo.head()"
   ]
  },
  {
   "cell_type": "code",
   "execution_count": 166,
   "metadata": {
    "collapsed": true
   },
   "outputs": [],
   "source": [
    "import numpy as np"
   ]
  },
  {
   "cell_type": "code",
   "execution_count": 167,
   "metadata": {
    "collapsed": false
   },
   "outputs": [],
   "source": [
    "X = np.array(r_geo[['LC', 'Weight','Lat','Long', 'Age','Birth', 'Year']])\n",
    "y = np.array(r_geo['NSC'])"
   ]
  },
  {
   "cell_type": "code",
   "execution_count": 168,
   "metadata": {
    "collapsed": true
   },
   "outputs": [],
   "source": [
    "from sklearn.neighbors import KNeighborsRegressor"
   ]
  },
  {
   "cell_type": "code",
   "execution_count": 169,
   "metadata": {
    "collapsed": true
   },
   "outputs": [],
   "source": [
    "nei = KNeighborsRegressor(n_neighbors=100, weights='distance',\n",
    "                          algorithm='ball_tree', leaf_size=1000, metric='manhattan')"
   ]
  },
  {
   "cell_type": "code",
   "execution_count": 170,
   "metadata": {
    "collapsed": true
   },
   "outputs": [],
   "source": [
    "from sklearn.cross_validation import train_test_split"
   ]
  },
  {
   "cell_type": "code",
   "execution_count": 171,
   "metadata": {
    "collapsed": true
   },
   "outputs": [],
   "source": [
    "X_train, X_test, y_train, y_test = train_test_split(X, y, test_size=0.2, random_state=100)"
   ]
  },
  {
   "cell_type": "code",
   "execution_count": 172,
   "metadata": {
    "collapsed": false
   },
   "outputs": [
    {
     "data": {
      "text/plain": [
       "KNeighborsRegressor(algorithm='ball_tree', leaf_size=1000, metric='manhattan',\n",
       "          metric_params=None, n_neighbors=100, p=2, weights='distance')"
      ]
     },
     "execution_count": 172,
     "metadata": {},
     "output_type": "execute_result"
    }
   ],
   "source": [
    "nei.fit(X_train, y_train)"
   ]
  },
  {
   "cell_type": "code",
   "execution_count": 174,
   "metadata": {
    "collapsed": false
   },
   "outputs": [
    {
     "data": {
      "text/html": [
       "<div>\n",
       "<table border=\"1\" class=\"dataframe\">\n",
       "  <thead>\n",
       "    <tr style=\"text-align: right;\">\n",
       "      <th></th>\n",
       "      <th>LC</th>\n",
       "      <th>Lifter</th>\n",
       "      <th>Weight</th>\n",
       "      <th>Age</th>\n",
       "      <th>Birth</th>\n",
       "      <th>Country Name</th>\n",
       "      <th>Lat</th>\n",
       "      <th>Long</th>\n",
       "      <th>Year</th>\n",
       "      <th>Snatch</th>\n",
       "      <th>Clean and Jerk</th>\n",
       "      <th>Total</th>\n",
       "      <th>NSC</th>\n",
       "    </tr>\n",
       "  </thead>\n",
       "  <tbody>\n",
       "    <tr>\n",
       "      <th>191</th>\n",
       "      <td>191</td>\n",
       "      <td>MARTINEZ Julio</td>\n",
       "      <td>73.60</td>\n",
       "      <td>20</td>\n",
       "      <td>1978</td>\n",
       "      <td>PUERTO RICO</td>\n",
       "      <td>18.201781</td>\n",
       "      <td>-66.584125</td>\n",
       "      <td>1998</td>\n",
       "      <td>110.0</td>\n",
       "      <td>140.0</td>\n",
       "      <td>250.0</td>\n",
       "      <td>-123.205034</td>\n",
       "    </tr>\n",
       "    <tr>\n",
       "      <th>492</th>\n",
       "      <td>451</td>\n",
       "      <td>ARIAS Edwin Nieves-Arias</td>\n",
       "      <td>60.50</td>\n",
       "      <td>22</td>\n",
       "      <td>1977</td>\n",
       "      <td>PUERTO RICO</td>\n",
       "      <td>18.201781</td>\n",
       "      <td>-66.584125</td>\n",
       "      <td>1999</td>\n",
       "      <td>95.0</td>\n",
       "      <td>120.0</td>\n",
       "      <td>215.0</td>\n",
       "      <td>-113.639905</td>\n",
       "    </tr>\n",
       "    <tr>\n",
       "      <th>519</th>\n",
       "      <td>463</td>\n",
       "      <td>MARTINEZ Marcos</td>\n",
       "      <td>68.06</td>\n",
       "      <td>19</td>\n",
       "      <td>1980</td>\n",
       "      <td>PUERTO RICO</td>\n",
       "      <td>18.201781</td>\n",
       "      <td>-66.584125</td>\n",
       "      <td>1999</td>\n",
       "      <td>107.5</td>\n",
       "      <td>135.0</td>\n",
       "      <td>242.5</td>\n",
       "      <td>-114.590301</td>\n",
       "    </tr>\n",
       "    <tr>\n",
       "      <th>784</th>\n",
       "      <td>632</td>\n",
       "      <td>HERNANDEZ Eric</td>\n",
       "      <td>103.90</td>\n",
       "      <td>21</td>\n",
       "      <td>1978</td>\n",
       "      <td>PUERTO RICO</td>\n",
       "      <td>18.201781</td>\n",
       "      <td>-66.584125</td>\n",
       "      <td>1999</td>\n",
       "      <td>115.0</td>\n",
       "      <td>147.5</td>\n",
       "      <td>262.5</td>\n",
       "      <td>-167.338681</td>\n",
       "    </tr>\n",
       "    <tr>\n",
       "      <th>856</th>\n",
       "      <td>682</td>\n",
       "      <td>GONZALES Edries</td>\n",
       "      <td>138.89</td>\n",
       "      <td>27</td>\n",
       "      <td>1972</td>\n",
       "      <td>PUERTO RICO</td>\n",
       "      <td>18.201781</td>\n",
       "      <td>-66.584125</td>\n",
       "      <td>1999</td>\n",
       "      <td>160.0</td>\n",
       "      <td>195.0</td>\n",
       "      <td>355.0</td>\n",
       "      <td>-112.819586</td>\n",
       "    </tr>\n",
       "    <tr>\n",
       "      <th>931</th>\n",
       "      <td>451</td>\n",
       "      <td>ARIAS Edwin Nieves-Arias</td>\n",
       "      <td>60.83</td>\n",
       "      <td>23</td>\n",
       "      <td>1977</td>\n",
       "      <td>PUERTO RICO</td>\n",
       "      <td>18.201781</td>\n",
       "      <td>-66.584125</td>\n",
       "      <td>2000</td>\n",
       "      <td>100.0</td>\n",
       "      <td>127.5</td>\n",
       "      <td>227.5</td>\n",
       "      <td>-102.600876</td>\n",
       "    </tr>\n",
       "    <tr>\n",
       "      <th>1034</th>\n",
       "      <td>770</td>\n",
       "      <td>SAURI CRUZ Carlos</td>\n",
       "      <td>76.92</td>\n",
       "      <td>26</td>\n",
       "      <td>1974</td>\n",
       "      <td>PUERTO RICO</td>\n",
       "      <td>18.201781</td>\n",
       "      <td>-66.584125</td>\n",
       "      <td>2000</td>\n",
       "      <td>140.0</td>\n",
       "      <td>165.0</td>\n",
       "      <td>305.0</td>\n",
       "      <td>-76.582280</td>\n",
       "    </tr>\n",
       "    <tr>\n",
       "      <th>1979</th>\n",
       "      <td>1209</td>\n",
       "      <td>MARTINEZ Wilfredo</td>\n",
       "      <td>68.60</td>\n",
       "      <td>22</td>\n",
       "      <td>1981</td>\n",
       "      <td>PUERTO RICO</td>\n",
       "      <td>18.201781</td>\n",
       "      <td>-66.584125</td>\n",
       "      <td>2003</td>\n",
       "      <td>115.0</td>\n",
       "      <td>140.0</td>\n",
       "      <td>255.0</td>\n",
       "      <td>-103.801629</td>\n",
       "    </tr>\n",
       "    <tr>\n",
       "      <th>1983</th>\n",
       "      <td>1212</td>\n",
       "      <td>TORRES Wayne</td>\n",
       "      <td>67.25</td>\n",
       "      <td>17</td>\n",
       "      <td>1986</td>\n",
       "      <td>PUERTO RICO</td>\n",
       "      <td>18.201781</td>\n",
       "      <td>-66.584125</td>\n",
       "      <td>2003</td>\n",
       "      <td>100.0</td>\n",
       "      <td>125.0</td>\n",
       "      <td>225.0</td>\n",
       "      <td>-129.457302</td>\n",
       "    </tr>\n",
       "    <tr>\n",
       "      <th>2085</th>\n",
       "      <td>1255</td>\n",
       "      <td>CARTAGENA Moises</td>\n",
       "      <td>84.49</td>\n",
       "      <td>28</td>\n",
       "      <td>1975</td>\n",
       "      <td>PUERTO RICO</td>\n",
       "      <td>18.201781</td>\n",
       "      <td>-66.584125</td>\n",
       "      <td>2003</td>\n",
       "      <td>140.0</td>\n",
       "      <td>170.0</td>\n",
       "      <td>310.0</td>\n",
       "      <td>-88.078024</td>\n",
       "    </tr>\n",
       "    <tr>\n",
       "      <th>2105</th>\n",
       "      <td>1264</td>\n",
       "      <td>CRESPO Dennis</td>\n",
       "      <td>88.30</td>\n",
       "      <td>24</td>\n",
       "      <td>1979</td>\n",
       "      <td>PUERTO RICO</td>\n",
       "      <td>18.201781</td>\n",
       "      <td>-66.584125</td>\n",
       "      <td>2003</td>\n",
       "      <td>132.5</td>\n",
       "      <td>165.0</td>\n",
       "      <td>297.5</td>\n",
       "      <td>-107.813360</td>\n",
       "    </tr>\n",
       "    <tr>\n",
       "      <th>2140</th>\n",
       "      <td>1276</td>\n",
       "      <td>LOPEZ Jose Gabriel</td>\n",
       "      <td>88.90</td>\n",
       "      <td>17</td>\n",
       "      <td>1986</td>\n",
       "      <td>PUERTO RICO</td>\n",
       "      <td>18.201781</td>\n",
       "      <td>-66.584125</td>\n",
       "      <td>2003</td>\n",
       "      <td>130.0</td>\n",
       "      <td>140.0</td>\n",
       "      <td>270.0</td>\n",
       "      <td>-136.398969</td>\n",
       "    </tr>\n",
       "    <tr>\n",
       "      <th>2469</th>\n",
       "      <td>1276</td>\n",
       "      <td>LOPEZ Jose Gabriel</td>\n",
       "      <td>91.05</td>\n",
       "      <td>18</td>\n",
       "      <td>1986</td>\n",
       "      <td>PUERTO RICO</td>\n",
       "      <td>18.201781</td>\n",
       "      <td>-66.584125</td>\n",
       "      <td>2004</td>\n",
       "      <td>137.5</td>\n",
       "      <td>150.0</td>\n",
       "      <td>287.5</td>\n",
       "      <td>-122.679613</td>\n",
       "    </tr>\n",
       "    <tr>\n",
       "      <th>2480</th>\n",
       "      <td>1403</td>\n",
       "      <td>ORTIZ Anthony</td>\n",
       "      <td>91.75</td>\n",
       "      <td>23</td>\n",
       "      <td>1981</td>\n",
       "      <td>PUERTO RICO</td>\n",
       "      <td>18.201781</td>\n",
       "      <td>-66.584125</td>\n",
       "      <td>2004</td>\n",
       "      <td>125.0</td>\n",
       "      <td>150.0</td>\n",
       "      <td>275.0</td>\n",
       "      <td>-136.375294</td>\n",
       "    </tr>\n",
       "    <tr>\n",
       "      <th>2871</th>\n",
       "      <td>1276</td>\n",
       "      <td>LOPEZ Jose Gabriel</td>\n",
       "      <td>93.00</td>\n",
       "      <td>19</td>\n",
       "      <td>1986</td>\n",
       "      <td>PUERTO RICO</td>\n",
       "      <td>18.201781</td>\n",
       "      <td>-66.584125</td>\n",
       "      <td>2005</td>\n",
       "      <td>143.0</td>\n",
       "      <td>160.0</td>\n",
       "      <td>303.0</td>\n",
       "      <td>-110.469705</td>\n",
       "    </tr>\n",
       "    <tr>\n",
       "      <th>3125</th>\n",
       "      <td>1209</td>\n",
       "      <td>MARTINEZ Wilfredo</td>\n",
       "      <td>68.90</td>\n",
       "      <td>25</td>\n",
       "      <td>1981</td>\n",
       "      <td>PUERTO RICO</td>\n",
       "      <td>18.201781</td>\n",
       "      <td>-66.584125</td>\n",
       "      <td>2006</td>\n",
       "      <td>127.0</td>\n",
       "      <td>0.0</td>\n",
       "      <td>0.0</td>\n",
       "      <td>-359.737767</td>\n",
       "    </tr>\n",
       "    <tr>\n",
       "      <th>3329</th>\n",
       "      <td>1764</td>\n",
       "      <td>NIEVES David</td>\n",
       "      <td>92.90</td>\n",
       "      <td>23</td>\n",
       "      <td>1983</td>\n",
       "      <td>PUERTO RICO</td>\n",
       "      <td>18.201781</td>\n",
       "      <td>-66.584125</td>\n",
       "      <td>2006</td>\n",
       "      <td>130.0</td>\n",
       "      <td>150.0</td>\n",
       "      <td>280.0</td>\n",
       "      <td>-133.304027</td>\n",
       "    </tr>\n",
       "    <tr>\n",
       "      <th>4091</th>\n",
       "      <td>2101</td>\n",
       "      <td>ORTIZ Luis</td>\n",
       "      <td>61.29</td>\n",
       "      <td>21</td>\n",
       "      <td>1987</td>\n",
       "      <td>PUERTO RICO</td>\n",
       "      <td>18.201781</td>\n",
       "      <td>-66.584125</td>\n",
       "      <td>2008</td>\n",
       "      <td>100.0</td>\n",
       "      <td>125.0</td>\n",
       "      <td>225.0</td>\n",
       "      <td>-107.096597</td>\n",
       "    </tr>\n",
       "    <tr>\n",
       "      <th>4192</th>\n",
       "      <td>2135</td>\n",
       "      <td>SERRANO RIVERA Jerami Antonio</td>\n",
       "      <td>68.63</td>\n",
       "      <td>20</td>\n",
       "      <td>1988</td>\n",
       "      <td>PUERTO RICO</td>\n",
       "      <td>18.201781</td>\n",
       "      <td>-66.584125</td>\n",
       "      <td>2008</td>\n",
       "      <td>110.0</td>\n",
       "      <td>140.0</td>\n",
       "      <td>250.0</td>\n",
       "      <td>-108.895705</td>\n",
       "    </tr>\n",
       "    <tr>\n",
       "      <th>4269</th>\n",
       "      <td>770</td>\n",
       "      <td>SAURI CRUZ Carlos</td>\n",
       "      <td>76.34</td>\n",
       "      <td>34</td>\n",
       "      <td>1974</td>\n",
       "      <td>PUERTO RICO</td>\n",
       "      <td>18.201781</td>\n",
       "      <td>-66.584125</td>\n",
       "      <td>2008</td>\n",
       "      <td>138.0</td>\n",
       "      <td>155.0</td>\n",
       "      <td>293.0</td>\n",
       "      <td>-87.176720</td>\n",
       "    </tr>\n",
       "    <tr>\n",
       "      <th>4300</th>\n",
       "      <td>2181</td>\n",
       "      <td>SANTIAGO RODRIGUEZ Ricardo</td>\n",
       "      <td>74.60</td>\n",
       "      <td>17</td>\n",
       "      <td>1991</td>\n",
       "      <td>PUERTO RICO</td>\n",
       "      <td>18.201781</td>\n",
       "      <td>-66.584125</td>\n",
       "      <td>2008</td>\n",
       "      <td>119.0</td>\n",
       "      <td>136.0</td>\n",
       "      <td>255.0</td>\n",
       "      <td>-120.815807</td>\n",
       "    </tr>\n",
       "    <tr>\n",
       "      <th>4373</th>\n",
       "      <td>1255</td>\n",
       "      <td>CARTAGENA Moises</td>\n",
       "      <td>84.60</td>\n",
       "      <td>33</td>\n",
       "      <td>1975</td>\n",
       "      <td>PUERTO RICO</td>\n",
       "      <td>18.201781</td>\n",
       "      <td>-66.584125</td>\n",
       "      <td>2008</td>\n",
       "      <td>135.0</td>\n",
       "      <td>172.0</td>\n",
       "      <td>307.0</td>\n",
       "      <td>-91.295736</td>\n",
       "    </tr>\n",
       "    <tr>\n",
       "      <th>4477</th>\n",
       "      <td>2243</td>\n",
       "      <td>ROSADO CRUZ Roberto Carlos</td>\n",
       "      <td>91.86</td>\n",
       "      <td>21</td>\n",
       "      <td>1987</td>\n",
       "      <td>PUERTO RICO</td>\n",
       "      <td>18.201781</td>\n",
       "      <td>-66.584125</td>\n",
       "      <td>2008</td>\n",
       "      <td>130.0</td>\n",
       "      <td>173.0</td>\n",
       "      <td>303.0</td>\n",
       "      <td>-108.561675</td>\n",
       "    </tr>\n",
       "    <tr>\n",
       "      <th>4572</th>\n",
       "      <td>2286</td>\n",
       "      <td>MARCIAL Juan Carlos</td>\n",
       "      <td>103.37</td>\n",
       "      <td>29</td>\n",
       "      <td>1979</td>\n",
       "      <td>PUERTO RICO</td>\n",
       "      <td>18.201781</td>\n",
       "      <td>-66.584125</td>\n",
       "      <td>2008</td>\n",
       "      <td>132.0</td>\n",
       "      <td>167.0</td>\n",
       "      <td>299.0</td>\n",
       "      <td>-130.111241</td>\n",
       "    </tr>\n",
       "    <tr>\n",
       "      <th>4575</th>\n",
       "      <td>2289</td>\n",
       "      <td>SEPULVEDA Roberto</td>\n",
       "      <td>104.11</td>\n",
       "      <td>25</td>\n",
       "      <td>1983</td>\n",
       "      <td>PUERTO RICO</td>\n",
       "      <td>18.201781</td>\n",
       "      <td>-66.584125</td>\n",
       "      <td>2008</td>\n",
       "      <td>130.0</td>\n",
       "      <td>165.0</td>\n",
       "      <td>295.0</td>\n",
       "      <td>-135.125208</td>\n",
       "    </tr>\n",
       "    <tr>\n",
       "      <th>4650</th>\n",
       "      <td>2323</td>\n",
       "      <td>RAMOS Carlos</td>\n",
       "      <td>118.17</td>\n",
       "      <td>23</td>\n",
       "      <td>1985</td>\n",
       "      <td>PUERTO RICO</td>\n",
       "      <td>18.201781</td>\n",
       "      <td>-66.584125</td>\n",
       "      <td>2008</td>\n",
       "      <td>150.0</td>\n",
       "      <td>160.0</td>\n",
       "      <td>310.0</td>\n",
       "      <td>-137.406045</td>\n",
       "    </tr>\n",
       "    <tr>\n",
       "      <th>4813</th>\n",
       "      <td>2443</td>\n",
       "      <td>LUIS Lebron Colon</td>\n",
       "      <td>55.82</td>\n",
       "      <td>14</td>\n",
       "      <td>1995</td>\n",
       "      <td>PUERTO RICO</td>\n",
       "      <td>18.201781</td>\n",
       "      <td>-66.584125</td>\n",
       "      <td>2009</td>\n",
       "      <td>71.0</td>\n",
       "      <td>94.0</td>\n",
       "      <td>165.0</td>\n",
       "      <td>-139.676678</td>\n",
       "    </tr>\n",
       "    <tr>\n",
       "      <th>4828</th>\n",
       "      <td>2458</td>\n",
       "      <td>GUZMAN PEREZ Bryan Gilberto</td>\n",
       "      <td>43.74</td>\n",
       "      <td>12</td>\n",
       "      <td>1997</td>\n",
       "      <td>PUERTO RICO</td>\n",
       "      <td>18.201781</td>\n",
       "      <td>-66.584125</td>\n",
       "      <td>2009</td>\n",
       "      <td>53.0</td>\n",
       "      <td>65.0</td>\n",
       "      <td>118.0</td>\n",
       "      <td>-32.538170</td>\n",
       "    </tr>\n",
       "    <tr>\n",
       "      <th>4832</th>\n",
       "      <td>2462</td>\n",
       "      <td>RODRIGUEZ CORTES Yabdiell</td>\n",
       "      <td>45.60</td>\n",
       "      <td>11</td>\n",
       "      <td>1998</td>\n",
       "      <td>PUERTO RICO</td>\n",
       "      <td>18.201781</td>\n",
       "      <td>-66.584125</td>\n",
       "      <td>2009</td>\n",
       "      <td>32.0</td>\n",
       "      <td>41.0</td>\n",
       "      <td>73.0</td>\n",
       "      <td>-126.852319</td>\n",
       "    </tr>\n",
       "    <tr>\n",
       "      <th>4997</th>\n",
       "      <td>2570</td>\n",
       "      <td>WILLIAM Aviles Cruz</td>\n",
       "      <td>56.92</td>\n",
       "      <td>15</td>\n",
       "      <td>1994</td>\n",
       "      <td>PUERTO RICO</td>\n",
       "      <td>18.201781</td>\n",
       "      <td>-66.584125</td>\n",
       "      <td>2009</td>\n",
       "      <td>70.0</td>\n",
       "      <td>87.0</td>\n",
       "      <td>157.0</td>\n",
       "      <td>-153.942451</td>\n",
       "    </tr>\n",
       "    <tr>\n",
       "      <th>...</th>\n",
       "      <td>...</td>\n",
       "      <td>...</td>\n",
       "      <td>...</td>\n",
       "      <td>...</td>\n",
       "      <td>...</td>\n",
       "      <td>...</td>\n",
       "      <td>...</td>\n",
       "      <td>...</td>\n",
       "      <td>...</td>\n",
       "      <td>...</td>\n",
       "      <td>...</td>\n",
       "      <td>...</td>\n",
       "      <td>...</td>\n",
       "    </tr>\n",
       "    <tr>\n",
       "      <th>8984</th>\n",
       "      <td>3376</td>\n",
       "      <td>CARLOS RUBEN Negron Torres</td>\n",
       "      <td>61.73</td>\n",
       "      <td>20</td>\n",
       "      <td>1992</td>\n",
       "      <td>PUERTO RICO</td>\n",
       "      <td>18.201781</td>\n",
       "      <td>-66.584125</td>\n",
       "      <td>2012</td>\n",
       "      <td>100.0</td>\n",
       "      <td>120.0</td>\n",
       "      <td>220.0</td>\n",
       "      <td>-113.962911</td>\n",
       "    </tr>\n",
       "    <tr>\n",
       "      <th>9139</th>\n",
       "      <td>4423</td>\n",
       "      <td>LANDRO RAMOS Luis G.</td>\n",
       "      <td>66.88</td>\n",
       "      <td>22</td>\n",
       "      <td>1990</td>\n",
       "      <td>PUERTO RICO</td>\n",
       "      <td>18.201781</td>\n",
       "      <td>-66.584125</td>\n",
       "      <td>2012</td>\n",
       "      <td>117.0</td>\n",
       "      <td>147.0</td>\n",
       "      <td>264.0</td>\n",
       "      <td>-89.227047</td>\n",
       "    </tr>\n",
       "    <tr>\n",
       "      <th>9146</th>\n",
       "      <td>3349</td>\n",
       "      <td>RIVERA MARTINEZ Jesus J.</td>\n",
       "      <td>66.99</td>\n",
       "      <td>25</td>\n",
       "      <td>1987</td>\n",
       "      <td>PUERTO RICO</td>\n",
       "      <td>18.201781</td>\n",
       "      <td>-66.584125</td>\n",
       "      <td>2012</td>\n",
       "      <td>116.0</td>\n",
       "      <td>143.0</td>\n",
       "      <td>259.0</td>\n",
       "      <td>-94.594651</td>\n",
       "    </tr>\n",
       "    <tr>\n",
       "      <th>9187</th>\n",
       "      <td>4443</td>\n",
       "      <td>MORALES FIGUEROA John L.</td>\n",
       "      <td>66.18</td>\n",
       "      <td>19</td>\n",
       "      <td>1993</td>\n",
       "      <td>PUERTO RICO</td>\n",
       "      <td>18.201781</td>\n",
       "      <td>-66.584125</td>\n",
       "      <td>2012</td>\n",
       "      <td>101.0</td>\n",
       "      <td>130.0</td>\n",
       "      <td>231.0</td>\n",
       "      <td>-119.849959</td>\n",
       "    </tr>\n",
       "    <tr>\n",
       "      <th>9305</th>\n",
       "      <td>770</td>\n",
       "      <td>SAURI CRUZ Carlos</td>\n",
       "      <td>76.62</td>\n",
       "      <td>38</td>\n",
       "      <td>1974</td>\n",
       "      <td>PUERTO RICO</td>\n",
       "      <td>18.201781</td>\n",
       "      <td>-66.584125</td>\n",
       "      <td>2012</td>\n",
       "      <td>140.0</td>\n",
       "      <td>157.0</td>\n",
       "      <td>297.0</td>\n",
       "      <td>-83.858152</td>\n",
       "    </tr>\n",
       "    <tr>\n",
       "      <th>9669</th>\n",
       "      <td>1255</td>\n",
       "      <td>CARTAGENA Moises</td>\n",
       "      <td>91.42</td>\n",
       "      <td>37</td>\n",
       "      <td>1975</td>\n",
       "      <td>PUERTO RICO</td>\n",
       "      <td>18.201781</td>\n",
       "      <td>-66.584125</td>\n",
       "      <td>2012</td>\n",
       "      <td>142.0</td>\n",
       "      <td>178.0</td>\n",
       "      <td>320.0</td>\n",
       "      <td>-90.813699</td>\n",
       "    </tr>\n",
       "    <tr>\n",
       "      <th>9821</th>\n",
       "      <td>3621</td>\n",
       "      <td>MARTE Keven</td>\n",
       "      <td>104.20</td>\n",
       "      <td>20</td>\n",
       "      <td>1992</td>\n",
       "      <td>PUERTO RICO</td>\n",
       "      <td>18.201781</td>\n",
       "      <td>-66.584125</td>\n",
       "      <td>2012</td>\n",
       "      <td>142.0</td>\n",
       "      <td>177.0</td>\n",
       "      <td>319.0</td>\n",
       "      <td>-111.247712</td>\n",
       "    </tr>\n",
       "    <tr>\n",
       "      <th>9952</th>\n",
       "      <td>3744</td>\n",
       "      <td>BONILLA Javier</td>\n",
       "      <td>110.67</td>\n",
       "      <td>26</td>\n",
       "      <td>1986</td>\n",
       "      <td>PUERTO RICO</td>\n",
       "      <td>18.201781</td>\n",
       "      <td>-66.584125</td>\n",
       "      <td>2012</td>\n",
       "      <td>132.0</td>\n",
       "      <td>165.0</td>\n",
       "      <td>297.0</td>\n",
       "      <td>-141.623934</td>\n",
       "    </tr>\n",
       "    <tr>\n",
       "      <th>10086</th>\n",
       "      <td>4293</td>\n",
       "      <td>CARABALLO Ariel</td>\n",
       "      <td>55.54</td>\n",
       "      <td>24</td>\n",
       "      <td>1989</td>\n",
       "      <td>PUERTO RICO</td>\n",
       "      <td>18.201781</td>\n",
       "      <td>-66.584125</td>\n",
       "      <td>2013</td>\n",
       "      <td>92.0</td>\n",
       "      <td>115.0</td>\n",
       "      <td>207.0</td>\n",
       "      <td>-96.005614</td>\n",
       "    </tr>\n",
       "    <tr>\n",
       "      <th>10477</th>\n",
       "      <td>3353</td>\n",
       "      <td>LANDRO Luis</td>\n",
       "      <td>67.58</td>\n",
       "      <td>23</td>\n",
       "      <td>1990</td>\n",
       "      <td>PUERTO RICO</td>\n",
       "      <td>18.201781</td>\n",
       "      <td>-66.584125</td>\n",
       "      <td>2013</td>\n",
       "      <td>118.0</td>\n",
       "      <td>143.0</td>\n",
       "      <td>261.0</td>\n",
       "      <td>-94.539814</td>\n",
       "    </tr>\n",
       "    <tr>\n",
       "      <th>10718</th>\n",
       "      <td>3372</td>\n",
       "      <td>ALEXANDER Hernandez</td>\n",
       "      <td>75.88</td>\n",
       "      <td>23</td>\n",
       "      <td>1990</td>\n",
       "      <td>PUERTO RICO</td>\n",
       "      <td>18.201781</td>\n",
       "      <td>-66.584125</td>\n",
       "      <td>2013</td>\n",
       "      <td>114.0</td>\n",
       "      <td>148.0</td>\n",
       "      <td>262.0</td>\n",
       "      <td>-117.045295</td>\n",
       "    </tr>\n",
       "    <tr>\n",
       "      <th>10758</th>\n",
       "      <td>3572</td>\n",
       "      <td>JEFFREY Cruz</td>\n",
       "      <td>76.66</td>\n",
       "      <td>24</td>\n",
       "      <td>1989</td>\n",
       "      <td>PUERTO RICO</td>\n",
       "      <td>18.201781</td>\n",
       "      <td>-66.584125</td>\n",
       "      <td>2013</td>\n",
       "      <td>107.0</td>\n",
       "      <td>130.0</td>\n",
       "      <td>237.0</td>\n",
       "      <td>-143.955058</td>\n",
       "    </tr>\n",
       "    <tr>\n",
       "      <th>11218</th>\n",
       "      <td>3621</td>\n",
       "      <td>MARTE Keven</td>\n",
       "      <td>101.44</td>\n",
       "      <td>21</td>\n",
       "      <td>1992</td>\n",
       "      <td>PUERTO RICO</td>\n",
       "      <td>18.201781</td>\n",
       "      <td>-66.584125</td>\n",
       "      <td>2013</td>\n",
       "      <td>142.0</td>\n",
       "      <td>177.0</td>\n",
       "      <td>319.0</td>\n",
       "      <td>-107.408680</td>\n",
       "    </tr>\n",
       "    <tr>\n",
       "      <th>11504</th>\n",
       "      <td>2458</td>\n",
       "      <td>GUZMAN PEREZ Bryan Gilberto</td>\n",
       "      <td>55.24</td>\n",
       "      <td>17</td>\n",
       "      <td>1997</td>\n",
       "      <td>PUERTO RICO</td>\n",
       "      <td>18.201781</td>\n",
       "      <td>-66.584125</td>\n",
       "      <td>2014</td>\n",
       "      <td>85.0</td>\n",
       "      <td>107.0</td>\n",
       "      <td>192.0</td>\n",
       "      <td>-109.178177</td>\n",
       "    </tr>\n",
       "    <tr>\n",
       "      <th>11706</th>\n",
       "      <td>3257</td>\n",
       "      <td>OLMEDO Ruben</td>\n",
       "      <td>60.10</td>\n",
       "      <td>30</td>\n",
       "      <td>1984</td>\n",
       "      <td>PUERTO RICO</td>\n",
       "      <td>18.201781</td>\n",
       "      <td>-66.584125</td>\n",
       "      <td>2014</td>\n",
       "      <td>100.0</td>\n",
       "      <td>120.0</td>\n",
       "      <td>220.0</td>\n",
       "      <td>-106.834885</td>\n",
       "    </tr>\n",
       "    <tr>\n",
       "      <th>11859</th>\n",
       "      <td>3353</td>\n",
       "      <td>LANDRO Luis</td>\n",
       "      <td>68.70</td>\n",
       "      <td>24</td>\n",
       "      <td>1990</td>\n",
       "      <td>PUERTO RICO</td>\n",
       "      <td>18.201781</td>\n",
       "      <td>-66.584125</td>\n",
       "      <td>2014</td>\n",
       "      <td>120.0</td>\n",
       "      <td>150.0</td>\n",
       "      <td>270.0</td>\n",
       "      <td>-89.114816</td>\n",
       "    </tr>\n",
       "    <tr>\n",
       "      <th>11943</th>\n",
       "      <td>5515</td>\n",
       "      <td>SANCHEZ Jorge</td>\n",
       "      <td>64.05</td>\n",
       "      <td>16</td>\n",
       "      <td>1998</td>\n",
       "      <td>PUERTO RICO</td>\n",
       "      <td>18.201781</td>\n",
       "      <td>-66.584125</td>\n",
       "      <td>2014</td>\n",
       "      <td>95.0</td>\n",
       "      <td>120.0</td>\n",
       "      <td>215.0</td>\n",
       "      <td>-128.181375</td>\n",
       "    </tr>\n",
       "    <tr>\n",
       "      <th>12168</th>\n",
       "      <td>5598</td>\n",
       "      <td>RODRIGUEZ Ruben</td>\n",
       "      <td>75.02</td>\n",
       "      <td>17</td>\n",
       "      <td>1997</td>\n",
       "      <td>PUERTO RICO</td>\n",
       "      <td>18.201781</td>\n",
       "      <td>-66.584125</td>\n",
       "      <td>2014</td>\n",
       "      <td>100.0</td>\n",
       "      <td>125.0</td>\n",
       "      <td>225.0</td>\n",
       "      <td>-151.888990</td>\n",
       "    </tr>\n",
       "    <tr>\n",
       "      <th>12305</th>\n",
       "      <td>3372</td>\n",
       "      <td>ALEXANDER Hernandez</td>\n",
       "      <td>81.18</td>\n",
       "      <td>24</td>\n",
       "      <td>1990</td>\n",
       "      <td>PUERTO RICO</td>\n",
       "      <td>18.201781</td>\n",
       "      <td>-66.584125</td>\n",
       "      <td>2014</td>\n",
       "      <td>125.0</td>\n",
       "      <td>165.0</td>\n",
       "      <td>290.0</td>\n",
       "      <td>-101.253151</td>\n",
       "    </tr>\n",
       "    <tr>\n",
       "      <th>12492</th>\n",
       "      <td>2243</td>\n",
       "      <td>ROSADO CRUZ Roberto Carlos</td>\n",
       "      <td>91.14</td>\n",
       "      <td>27</td>\n",
       "      <td>1987</td>\n",
       "      <td>PUERTO RICO</td>\n",
       "      <td>18.201781</td>\n",
       "      <td>-66.584125</td>\n",
       "      <td>2014</td>\n",
       "      <td>131.0</td>\n",
       "      <td>175.0</td>\n",
       "      <td>306.0</td>\n",
       "      <td>-104.334283</td>\n",
       "    </tr>\n",
       "    <tr>\n",
       "      <th>12515</th>\n",
       "      <td>1255</td>\n",
       "      <td>CARTAGENA Moises</td>\n",
       "      <td>89.60</td>\n",
       "      <td>39</td>\n",
       "      <td>1975</td>\n",
       "      <td>PUERTO RICO</td>\n",
       "      <td>18.201781</td>\n",
       "      <td>-66.584125</td>\n",
       "      <td>2014</td>\n",
       "      <td>130.0</td>\n",
       "      <td>155.0</td>\n",
       "      <td>285.0</td>\n",
       "      <td>-122.648328</td>\n",
       "    </tr>\n",
       "    <tr>\n",
       "      <th>12633</th>\n",
       "      <td>3621</td>\n",
       "      <td>MARTE Keven</td>\n",
       "      <td>103.74</td>\n",
       "      <td>22</td>\n",
       "      <td>1992</td>\n",
       "      <td>PUERTO RICO</td>\n",
       "      <td>18.201781</td>\n",
       "      <td>-66.584125</td>\n",
       "      <td>2014</td>\n",
       "      <td>155.0</td>\n",
       "      <td>190.0</td>\n",
       "      <td>345.0</td>\n",
       "      <td>-84.619728</td>\n",
       "    </tr>\n",
       "    <tr>\n",
       "      <th>12798</th>\n",
       "      <td>3760</td>\n",
       "      <td>HERIBERTO Rivera</td>\n",
       "      <td>120.66</td>\n",
       "      <td>21</td>\n",
       "      <td>1993</td>\n",
       "      <td>PUERTO RICO</td>\n",
       "      <td>18.201781</td>\n",
       "      <td>-66.584125</td>\n",
       "      <td>2014</td>\n",
       "      <td>130.0</td>\n",
       "      <td>175.0</td>\n",
       "      <td>305.0</td>\n",
       "      <td>-145.132963</td>\n",
       "    </tr>\n",
       "    <tr>\n",
       "      <th>13131</th>\n",
       "      <td>5935</td>\n",
       "      <td>ARROYO OLMO Jose Daniel</td>\n",
       "      <td>60.95</td>\n",
       "      <td>17</td>\n",
       "      <td>1998</td>\n",
       "      <td>PUERTO RICO</td>\n",
       "      <td>18.201781</td>\n",
       "      <td>-66.584125</td>\n",
       "      <td>2015</td>\n",
       "      <td>95.0</td>\n",
       "      <td>110.0</td>\n",
       "      <td>205.0</td>\n",
       "      <td>-125.626008</td>\n",
       "    </tr>\n",
       "    <tr>\n",
       "      <th>13279</th>\n",
       "      <td>5968</td>\n",
       "      <td>REYES Bruno</td>\n",
       "      <td>68.35</td>\n",
       "      <td>20</td>\n",
       "      <td>1995</td>\n",
       "      <td>PUERTO RICO</td>\n",
       "      <td>18.201781</td>\n",
       "      <td>-66.584125</td>\n",
       "      <td>2015</td>\n",
       "      <td>110.0</td>\n",
       "      <td>137.0</td>\n",
       "      <td>247.0</td>\n",
       "      <td>-111.013605</td>\n",
       "    </tr>\n",
       "    <tr>\n",
       "      <th>13300</th>\n",
       "      <td>5976</td>\n",
       "      <td>SANCHEZ VELEZ Jorge Jesus</td>\n",
       "      <td>67.07</td>\n",
       "      <td>17</td>\n",
       "      <td>1998</td>\n",
       "      <td>PUERTO RICO</td>\n",
       "      <td>18.201781</td>\n",
       "      <td>-66.584125</td>\n",
       "      <td>2015</td>\n",
       "      <td>105.0</td>\n",
       "      <td>130.0</td>\n",
       "      <td>235.0</td>\n",
       "      <td>-118.861011</td>\n",
       "    </tr>\n",
       "    <tr>\n",
       "      <th>13523</th>\n",
       "      <td>2462</td>\n",
       "      <td>RODRIGUEZ CORTES Yabdiell</td>\n",
       "      <td>75.70</td>\n",
       "      <td>17</td>\n",
       "      <td>1998</td>\n",
       "      <td>PUERTO RICO</td>\n",
       "      <td>18.201781</td>\n",
       "      <td>-66.584125</td>\n",
       "      <td>2015</td>\n",
       "      <td>100.0</td>\n",
       "      <td>127.0</td>\n",
       "      <td>227.0</td>\n",
       "      <td>-151.598455</td>\n",
       "    </tr>\n",
       "    <tr>\n",
       "      <th>13697</th>\n",
       "      <td>6119</td>\n",
       "      <td>LAMENZA LOPEZ Luis Armando</td>\n",
       "      <td>82.35</td>\n",
       "      <td>17</td>\n",
       "      <td>1998</td>\n",
       "      <td>PUERTO RICO</td>\n",
       "      <td>18.201781</td>\n",
       "      <td>-66.584125</td>\n",
       "      <td>2015</td>\n",
       "      <td>118.0</td>\n",
       "      <td>144.0</td>\n",
       "      <td>262.0</td>\n",
       "      <td>-131.728307</td>\n",
       "    </tr>\n",
       "    <tr>\n",
       "      <th>13716</th>\n",
       "      <td>5598</td>\n",
       "      <td>RODRIGUEZ Ruben</td>\n",
       "      <td>79.70</td>\n",
       "      <td>18</td>\n",
       "      <td>1997</td>\n",
       "      <td>PUERTO RICO</td>\n",
       "      <td>18.201781</td>\n",
       "      <td>-66.584125</td>\n",
       "      <td>2015</td>\n",
       "      <td>110.0</td>\n",
       "      <td>140.0</td>\n",
       "      <td>250.0</td>\n",
       "      <td>-138.015877</td>\n",
       "    </tr>\n",
       "    <tr>\n",
       "      <th>13889</th>\n",
       "      <td>6191</td>\n",
       "      <td>RODRIGUEZ Lester</td>\n",
       "      <td>92.10</td>\n",
       "      <td>20</td>\n",
       "      <td>1995</td>\n",
       "      <td>PUERTO RICO</td>\n",
       "      <td>18.201781</td>\n",
       "      <td>-66.584125</td>\n",
       "      <td>2015</td>\n",
       "      <td>120.0</td>\n",
       "      <td>138.0</td>\n",
       "      <td>258.0</td>\n",
       "      <td>-153.966920</td>\n",
       "    </tr>\n",
       "  </tbody>\n",
       "</table>\n",
       "<p>114 rows × 13 columns</p>\n",
       "</div>"
      ],
      "text/plain": [
       "         LC                         Lifter  Weight  Age  Birth Country Name  \\\n",
       "191     191                 MARTINEZ Julio   73.60   20   1978  PUERTO RICO   \n",
       "492     451       ARIAS Edwin Nieves-Arias   60.50   22   1977  PUERTO RICO   \n",
       "519     463                MARTINEZ Marcos   68.06   19   1980  PUERTO RICO   \n",
       "784     632                 HERNANDEZ Eric  103.90   21   1978  PUERTO RICO   \n",
       "856     682                GONZALES Edries  138.89   27   1972  PUERTO RICO   \n",
       "931     451       ARIAS Edwin Nieves-Arias   60.83   23   1977  PUERTO RICO   \n",
       "1034    770              SAURI CRUZ Carlos   76.92   26   1974  PUERTO RICO   \n",
       "1979   1209              MARTINEZ Wilfredo   68.60   22   1981  PUERTO RICO   \n",
       "1983   1212                   TORRES Wayne   67.25   17   1986  PUERTO RICO   \n",
       "2085   1255               CARTAGENA Moises   84.49   28   1975  PUERTO RICO   \n",
       "2105   1264                  CRESPO Dennis   88.30   24   1979  PUERTO RICO   \n",
       "2140   1276             LOPEZ Jose Gabriel   88.90   17   1986  PUERTO RICO   \n",
       "2469   1276             LOPEZ Jose Gabriel   91.05   18   1986  PUERTO RICO   \n",
       "2480   1403                  ORTIZ Anthony   91.75   23   1981  PUERTO RICO   \n",
       "2871   1276             LOPEZ Jose Gabriel   93.00   19   1986  PUERTO RICO   \n",
       "3125   1209              MARTINEZ Wilfredo   68.90   25   1981  PUERTO RICO   \n",
       "3329   1764                   NIEVES David   92.90   23   1983  PUERTO RICO   \n",
       "4091   2101                     ORTIZ Luis   61.29   21   1987  PUERTO RICO   \n",
       "4192   2135  SERRANO RIVERA Jerami Antonio   68.63   20   1988  PUERTO RICO   \n",
       "4269    770              SAURI CRUZ Carlos   76.34   34   1974  PUERTO RICO   \n",
       "4300   2181     SANTIAGO RODRIGUEZ Ricardo   74.60   17   1991  PUERTO RICO   \n",
       "4373   1255               CARTAGENA Moises   84.60   33   1975  PUERTO RICO   \n",
       "4477   2243     ROSADO CRUZ Roberto Carlos   91.86   21   1987  PUERTO RICO   \n",
       "4572   2286            MARCIAL Juan Carlos  103.37   29   1979  PUERTO RICO   \n",
       "4575   2289              SEPULVEDA Roberto  104.11   25   1983  PUERTO RICO   \n",
       "4650   2323                   RAMOS Carlos  118.17   23   1985  PUERTO RICO   \n",
       "4813   2443              LUIS Lebron Colon   55.82   14   1995  PUERTO RICO   \n",
       "4828   2458    GUZMAN PEREZ Bryan Gilberto   43.74   12   1997  PUERTO RICO   \n",
       "4832   2462      RODRIGUEZ CORTES Yabdiell   45.60   11   1998  PUERTO RICO   \n",
       "4997   2570            WILLIAM Aviles Cruz   56.92   15   1994  PUERTO RICO   \n",
       "...     ...                            ...     ...  ...    ...          ...   \n",
       "8984   3376     CARLOS RUBEN Negron Torres   61.73   20   1992  PUERTO RICO   \n",
       "9139   4423           LANDRO RAMOS Luis G.   66.88   22   1990  PUERTO RICO   \n",
       "9146   3349       RIVERA MARTINEZ Jesus J.   66.99   25   1987  PUERTO RICO   \n",
       "9187   4443       MORALES FIGUEROA John L.   66.18   19   1993  PUERTO RICO   \n",
       "9305    770              SAURI CRUZ Carlos   76.62   38   1974  PUERTO RICO   \n",
       "9669   1255               CARTAGENA Moises   91.42   37   1975  PUERTO RICO   \n",
       "9821   3621                    MARTE Keven  104.20   20   1992  PUERTO RICO   \n",
       "9952   3744                 BONILLA Javier  110.67   26   1986  PUERTO RICO   \n",
       "10086  4293                CARABALLO Ariel   55.54   24   1989  PUERTO RICO   \n",
       "10477  3353                    LANDRO Luis   67.58   23   1990  PUERTO RICO   \n",
       "10718  3372            ALEXANDER Hernandez   75.88   23   1990  PUERTO RICO   \n",
       "10758  3572                   JEFFREY Cruz   76.66   24   1989  PUERTO RICO   \n",
       "11218  3621                    MARTE Keven  101.44   21   1992  PUERTO RICO   \n",
       "11504  2458    GUZMAN PEREZ Bryan Gilberto   55.24   17   1997  PUERTO RICO   \n",
       "11706  3257                   OLMEDO Ruben   60.10   30   1984  PUERTO RICO   \n",
       "11859  3353                    LANDRO Luis   68.70   24   1990  PUERTO RICO   \n",
       "11943  5515                  SANCHEZ Jorge   64.05   16   1998  PUERTO RICO   \n",
       "12168  5598                RODRIGUEZ Ruben   75.02   17   1997  PUERTO RICO   \n",
       "12305  3372            ALEXANDER Hernandez   81.18   24   1990  PUERTO RICO   \n",
       "12492  2243     ROSADO CRUZ Roberto Carlos   91.14   27   1987  PUERTO RICO   \n",
       "12515  1255               CARTAGENA Moises   89.60   39   1975  PUERTO RICO   \n",
       "12633  3621                    MARTE Keven  103.74   22   1992  PUERTO RICO   \n",
       "12798  3760               HERIBERTO Rivera  120.66   21   1993  PUERTO RICO   \n",
       "13131  5935        ARROYO OLMO Jose Daniel   60.95   17   1998  PUERTO RICO   \n",
       "13279  5968                    REYES Bruno   68.35   20   1995  PUERTO RICO   \n",
       "13300  5976      SANCHEZ VELEZ Jorge Jesus   67.07   17   1998  PUERTO RICO   \n",
       "13523  2462      RODRIGUEZ CORTES Yabdiell   75.70   17   1998  PUERTO RICO   \n",
       "13697  6119     LAMENZA LOPEZ Luis Armando   82.35   17   1998  PUERTO RICO   \n",
       "13716  5598                RODRIGUEZ Ruben   79.70   18   1997  PUERTO RICO   \n",
       "13889  6191               RODRIGUEZ Lester   92.10   20   1995  PUERTO RICO   \n",
       "\n",
       "             Lat       Long  Year  Snatch  Clean and Jerk  Total         NSC  \n",
       "191    18.201781 -66.584125  1998   110.0           140.0  250.0 -123.205034  \n",
       "492    18.201781 -66.584125  1999    95.0           120.0  215.0 -113.639905  \n",
       "519    18.201781 -66.584125  1999   107.5           135.0  242.5 -114.590301  \n",
       "784    18.201781 -66.584125  1999   115.0           147.5  262.5 -167.338681  \n",
       "856    18.201781 -66.584125  1999   160.0           195.0  355.0 -112.819586  \n",
       "931    18.201781 -66.584125  2000   100.0           127.5  227.5 -102.600876  \n",
       "1034   18.201781 -66.584125  2000   140.0           165.0  305.0  -76.582280  \n",
       "1979   18.201781 -66.584125  2003   115.0           140.0  255.0 -103.801629  \n",
       "1983   18.201781 -66.584125  2003   100.0           125.0  225.0 -129.457302  \n",
       "2085   18.201781 -66.584125  2003   140.0           170.0  310.0  -88.078024  \n",
       "2105   18.201781 -66.584125  2003   132.5           165.0  297.5 -107.813360  \n",
       "2140   18.201781 -66.584125  2003   130.0           140.0  270.0 -136.398969  \n",
       "2469   18.201781 -66.584125  2004   137.5           150.0  287.5 -122.679613  \n",
       "2480   18.201781 -66.584125  2004   125.0           150.0  275.0 -136.375294  \n",
       "2871   18.201781 -66.584125  2005   143.0           160.0  303.0 -110.469705  \n",
       "3125   18.201781 -66.584125  2006   127.0             0.0    0.0 -359.737767  \n",
       "3329   18.201781 -66.584125  2006   130.0           150.0  280.0 -133.304027  \n",
       "4091   18.201781 -66.584125  2008   100.0           125.0  225.0 -107.096597  \n",
       "4192   18.201781 -66.584125  2008   110.0           140.0  250.0 -108.895705  \n",
       "4269   18.201781 -66.584125  2008   138.0           155.0  293.0  -87.176720  \n",
       "4300   18.201781 -66.584125  2008   119.0           136.0  255.0 -120.815807  \n",
       "4373   18.201781 -66.584125  2008   135.0           172.0  307.0  -91.295736  \n",
       "4477   18.201781 -66.584125  2008   130.0           173.0  303.0 -108.561675  \n",
       "4572   18.201781 -66.584125  2008   132.0           167.0  299.0 -130.111241  \n",
       "4575   18.201781 -66.584125  2008   130.0           165.0  295.0 -135.125208  \n",
       "4650   18.201781 -66.584125  2008   150.0           160.0  310.0 -137.406045  \n",
       "4813   18.201781 -66.584125  2009    71.0            94.0  165.0 -139.676678  \n",
       "4828   18.201781 -66.584125  2009    53.0            65.0  118.0  -32.538170  \n",
       "4832   18.201781 -66.584125  2009    32.0            41.0   73.0 -126.852319  \n",
       "4997   18.201781 -66.584125  2009    70.0            87.0  157.0 -153.942451  \n",
       "...          ...        ...   ...     ...             ...    ...         ...  \n",
       "8984   18.201781 -66.584125  2012   100.0           120.0  220.0 -113.962911  \n",
       "9139   18.201781 -66.584125  2012   117.0           147.0  264.0  -89.227047  \n",
       "9146   18.201781 -66.584125  2012   116.0           143.0  259.0  -94.594651  \n",
       "9187   18.201781 -66.584125  2012   101.0           130.0  231.0 -119.849959  \n",
       "9305   18.201781 -66.584125  2012   140.0           157.0  297.0  -83.858152  \n",
       "9669   18.201781 -66.584125  2012   142.0           178.0  320.0  -90.813699  \n",
       "9821   18.201781 -66.584125  2012   142.0           177.0  319.0 -111.247712  \n",
       "9952   18.201781 -66.584125  2012   132.0           165.0  297.0 -141.623934  \n",
       "10086  18.201781 -66.584125  2013    92.0           115.0  207.0  -96.005614  \n",
       "10477  18.201781 -66.584125  2013   118.0           143.0  261.0  -94.539814  \n",
       "10718  18.201781 -66.584125  2013   114.0           148.0  262.0 -117.045295  \n",
       "10758  18.201781 -66.584125  2013   107.0           130.0  237.0 -143.955058  \n",
       "11218  18.201781 -66.584125  2013   142.0           177.0  319.0 -107.408680  \n",
       "11504  18.201781 -66.584125  2014    85.0           107.0  192.0 -109.178177  \n",
       "11706  18.201781 -66.584125  2014   100.0           120.0  220.0 -106.834885  \n",
       "11859  18.201781 -66.584125  2014   120.0           150.0  270.0  -89.114816  \n",
       "11943  18.201781 -66.584125  2014    95.0           120.0  215.0 -128.181375  \n",
       "12168  18.201781 -66.584125  2014   100.0           125.0  225.0 -151.888990  \n",
       "12305  18.201781 -66.584125  2014   125.0           165.0  290.0 -101.253151  \n",
       "12492  18.201781 -66.584125  2014   131.0           175.0  306.0 -104.334283  \n",
       "12515  18.201781 -66.584125  2014   130.0           155.0  285.0 -122.648328  \n",
       "12633  18.201781 -66.584125  2014   155.0           190.0  345.0  -84.619728  \n",
       "12798  18.201781 -66.584125  2014   130.0           175.0  305.0 -145.132963  \n",
       "13131  18.201781 -66.584125  2015    95.0           110.0  205.0 -125.626008  \n",
       "13279  18.201781 -66.584125  2015   110.0           137.0  247.0 -111.013605  \n",
       "13300  18.201781 -66.584125  2015   105.0           130.0  235.0 -118.861011  \n",
       "13523  18.201781 -66.584125  2015   100.0           127.0  227.0 -151.598455  \n",
       "13697  18.201781 -66.584125  2015   118.0           144.0  262.0 -131.728307  \n",
       "13716  18.201781 -66.584125  2015   110.0           140.0  250.0 -138.015877  \n",
       "13889  18.201781 -66.584125  2015   120.0           138.0  258.0 -153.966920  \n",
       "\n",
       "[114 rows x 13 columns]"
      ]
     },
     "execution_count": 174,
     "metadata": {},
     "output_type": "execute_result"
    }
   ],
   "source": [
    "r_geo[r_geo['Country Name']=='PUERTO RICO']"
   ]
  },
  {
   "cell_type": "code",
   "execution_count": 178,
   "metadata": {
    "collapsed": false
   },
   "outputs": [
    {
     "data": {
      "text/plain": [
       "array([-129.89497315])"
      ]
     },
     "execution_count": 178,
     "metadata": {},
     "output_type": "execute_result"
    }
   ],
   "source": [
    "nei.predict([6119,18.201781,-66.584125,18,1998,2016])"
   ]
  },
  {
   "cell_type": "code",
   "execution_count": 241,
   "metadata": {
    "collapsed": false
   },
   "outputs": [],
   "source": [
    "class Company2(object):\n",
    "    def __init__(self, geo):\n",
    "        self.geo = geo\n",
    "\n",
    "with open('nei_improve.pkl', 'wb') as output:\n",
    "    recent_imp = Company2(nei)\n",
    "    pickle.dump(recent_imp, output, protocol=2)\n",
    "    "
   ]
  },
  {
   "cell_type": "code",
   "execution_count": 185,
   "metadata": {
    "collapsed": false
   },
   "outputs": [],
   "source": [
    "#opens the file to make sure it worked    \n",
    "with open('nei_improve.pkl', 'rb') as input:\n",
    "    nei_model_imp = pickle.load(input)    \n",
    "\n",
    "model_imp = nei_model_imp.geo"
   ]
  },
  {
   "cell_type": "code",
   "execution_count": 186,
   "metadata": {
    "collapsed": false
   },
   "outputs": [
    {
     "data": {
      "text/plain": [
       "array([-129.89497315])"
      ]
     },
     "execution_count": 186,
     "metadata": {},
     "output_type": "execute_result"
    }
   ],
   "source": [
    "model_imp.predict([6119,18.201781,-66.584125,18,1998,2016])"
   ]
  },
  {
   "cell_type": "code",
   "execution_count": 216,
   "metadata": {
    "collapsed": false
   },
   "outputs": [],
   "source": [
    "countries_df = recent_data[['Country Name', 'Lat', 'Long']]"
   ]
  },
  {
   "cell_type": "code",
   "execution_count": 231,
   "metadata": {
    "collapsed": false
   },
   "outputs": [],
   "source": [
    "countries_unique = countries_df.drop_duplicates()"
   ]
  },
  {
   "cell_type": "code",
   "execution_count": 232,
   "metadata": {
    "collapsed": false
   },
   "outputs": [
    {
     "data": {
      "text/plain": [
       "161"
      ]
     },
     "execution_count": 232,
     "metadata": {},
     "output_type": "execute_result"
    }
   ],
   "source": [
    "len(countries_unique)"
   ]
  },
  {
   "cell_type": "code",
   "execution_count": 239,
   "metadata": {
    "collapsed": true
   },
   "outputs": [],
   "source": [
    "class Company3(object):\n",
    "    def __init__(self, cu):\n",
    "        self.cu = cu\n",
    "\n",
    "with open('unique_countries.pkl', 'wb') as output:\n",
    "    c_unique = Company3(countries_unique)\n",
    "    pickle.dump(c_unique, output, protocol=2)"
   ]
  },
  {
   "cell_type": "code",
   "execution_count": 243,
   "metadata": {
    "collapsed": false
   },
   "outputs": [],
   "source": [
    "#opens the file to make sure it worked    \n",
    "with open('unique_countries.pkl', 'rb') as input:\n",
    "    uni_c = pickle.load(input)    \n",
    "\n",
    "unique_c_list = uni_c.cu"
   ]
  },
  {
   "cell_type": "code",
   "execution_count": 245,
   "metadata": {
    "collapsed": false
   },
   "outputs": [
    {
     "data": {
      "text/html": [
       "<div>\n",
       "<table border=\"1\" class=\"dataframe\">\n",
       "  <thead>\n",
       "    <tr style=\"text-align: right;\">\n",
       "      <th></th>\n",
       "      <th>Country Name</th>\n",
       "      <th>Lat</th>\n",
       "      <th>Long</th>\n",
       "    </tr>\n",
       "  </thead>\n",
       "  <tbody>\n",
       "    <tr>\n",
       "      <th>0</th>\n",
       "      <td>BULGARIA</td>\n",
       "      <td>42.607397</td>\n",
       "      <td>25.485662</td>\n",
       "    </tr>\n",
       "    <tr>\n",
       "      <th>1</th>\n",
       "      <td>CUBA</td>\n",
       "      <td>23.013134</td>\n",
       "      <td>-80.832875</td>\n",
       "    </tr>\n",
       "    <tr>\n",
       "      <th>2</th>\n",
       "      <td>ROMANIA</td>\n",
       "      <td>45.985213</td>\n",
       "      <td>24.685923</td>\n",
       "    </tr>\n",
       "    <tr>\n",
       "      <th>4</th>\n",
       "      <td>FRANCE</td>\n",
       "      <td>46.603354</td>\n",
       "      <td>1.888334</td>\n",
       "    </tr>\n",
       "    <tr>\n",
       "      <th>5</th>\n",
       "      <td>UKRAINE</td>\n",
       "      <td>49.487197</td>\n",
       "      <td>31.271832</td>\n",
       "    </tr>\n",
       "  </tbody>\n",
       "</table>\n",
       "</div>"
      ],
      "text/plain": [
       "  Country Name        Lat       Long\n",
       "0     BULGARIA  42.607397  25.485662\n",
       "1         CUBA  23.013134 -80.832875\n",
       "2      ROMANIA  45.985213  24.685923\n",
       "4       FRANCE  46.603354   1.888334\n",
       "5      UKRAINE  49.487197  31.271832"
      ]
     },
     "execution_count": 245,
     "metadata": {},
     "output_type": "execute_result"
    }
   ],
   "source": [
    "unique_c_list.head()"
   ]
  },
  {
   "cell_type": "code",
   "execution_count": null,
   "metadata": {
    "collapsed": true
   },
   "outputs": [],
   "source": []
  }
 ],
 "metadata": {
  "kernelspec": {
   "display_name": "Python 3",
   "language": "python",
   "name": "python3"
  },
  "language_info": {
   "codemirror_mode": {
    "name": "ipython",
    "version": 3
   },
   "file_extension": ".py",
   "mimetype": "text/x-python",
   "name": "python",
   "nbconvert_exporter": "python",
   "pygments_lexer": "ipython3",
   "version": "3.4.4"
  }
 },
 "nbformat": 4,
 "nbformat_minor": 0
}
